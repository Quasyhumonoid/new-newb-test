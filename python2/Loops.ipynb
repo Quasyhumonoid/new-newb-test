{
 "cells": [
  {
   "cell_type": "code",
   "execution_count": 1,
   "id": "bd78be75",
   "metadata": {},
   "outputs": [
    {
     "name": "stdout",
     "output_type": "stream",
     "text": [
      "h\n",
      "e\n",
      "l\n",
      "l\n",
      "o\n"
     ]
    }
   ],
   "source": [
    "greet='hello'\n",
    "list1=list(greet)\n",
    "for letter in list1:\n",
    "    print(letter)"
   ]
  },
  {
   "cell_type": "code",
   "execution_count": 5,
   "id": "3f53d599",
   "metadata": {},
   "outputs": [
    {
     "name": "stdout",
     "output_type": "stream",
     "text": [
      "h\n",
      "e\n",
      "l\n",
      "l\n",
      "o\n",
      " \n",
      "w\n",
      "o\n",
      "r\n",
      "l\n",
      "d\n"
     ]
    }
   ],
   "source": [
    "for char in 'hello world':\n",
    "    print(char)"
   ]
  },
  {
   "cell_type": "code",
   "execution_count": 69,
   "id": "c748448a",
   "metadata": {},
   "outputs": [
    {
     "name": "stdout",
     "output_type": "stream",
     "text": [
      "germany\n",
      "Sweden\n",
      "luxembourg\n",
      "austria\n",
      "netherlands\n",
      "finland\n"
     ]
    }
   ],
   "source": [
    "for country in 'germany','Sweden','luxembourg','austria','netherlands','finland':\n",
    "    print(country)"
   ]
  },
  {
   "cell_type": "code",
   "execution_count": null,
   "id": "f75f8e98",
   "metadata": {},
   "outputs": [],
   "source": [
    " "
   ]
  },
  {
   "cell_type": "code",
   "execution_count": 68,
   "id": "57aa4934",
   "metadata": {},
   "outputs": [
    {
     "name": "stdout",
     "output_type": "stream",
     "text": [
      "Make 1, nissan, includes models: ['sentra', 'optima']\n",
      "Make 2, toyota, includes models: prius\n",
      "Make 3, volkswagen, includes models: ['jetta', 'beetle', 'golf']\n",
      "Make 4, ford, includes models: ['focus', 'fiesta']\n",
      "Make 5, hyundai, includes models: elantra\n",
      "Make 6, toyota, includes models: corolla\n",
      "Make 7, mini, includes models: ['cooper', 'clubman']\n",
      "Make 8, honda, includes models: ['civic', 'accord']\n"
     ]
    }
   ],
   "source": [
    "cars=(('nissan',['sentra', 'optima']), ('toyota','prius'), ('volkswagen',['jetta', 'beetle', 'golf']), ('ford',['focus', 'fiesta']), ('hyundai','elantra'), ('toyota','corolla'), ('mini',['cooper', 'clubman']), ('honda',['civic', 'accord']))\n",
    "for i, (make, models) in enumerate(cars):\n",
    "    print(\"Make \"+ str(i+1) +\", \"+ make +\", includes models: \"+ str(models))"
   ]
  },
  {
   "cell_type": "code",
   "execution_count": 37,
   "id": "af35fe8c",
   "metadata": {},
   "outputs": [
    {
     "name": "stdout",
     "output_type": "stream",
     "text": [
      "(0, 1, 2, 3, 4)\n",
      "(5, 6, 7)\n",
      "6\n",
      "8\n",
      "10\n",
      "12\n",
      "14\n",
      "8\n",
      "6\n",
      "4\n",
      "2\n",
      "0\n"
     ]
    }
   ],
   "source": [
    "values=tuple(range(5))\n",
    "print(values)\n",
    "values=tuple(range(5,8))\n",
    "print(values)\n",
    "for i in range (6,15,2):\n",
    "    print (i)\n",
    "ran = range(0,10,2)\n",
    "for i in reversed(ran):\n",
    "    print (i)"
   ]
  },
  {
   "cell_type": "code",
   "execution_count": 66,
   "id": "eea4cba0",
   "metadata": {},
   "outputs": [
    {
     "name": "stdout",
     "output_type": "stream",
     "text": [
      "Type a list of numbers seperated by commas.2,4,6\n",
      "['2', '4', '6']\n",
      "cubes are [8, 64, 216]\n"
     ]
    }
   ],
   "source": [
    "#Loops practice 1\n",
    "string1=input(\"Type a list of numbers seperated by commas.\")\n",
    "list1=string1.split(',')\n",
    "print (list1)\n",
    "list2=list()\n",
    "for i in range(len(list1)):\n",
    "    list2.append(int(list1[i])**3)\n",
    "print(\"the cubes are\", list2)"
   ]
  },
  {
   "cell_type": "code",
   "execution_count": null,
   "id": "eadcf141",
   "metadata": {},
   "outputs": [],
   "source": [
    "#Loops practice 2\n",
    "list1=[['elantra', 'sonata',],['prius', 'corolla']]\n",
    "list2=list()\n",
    "list3=list()\n",
    "for i, element in range(len(list1)):\n",
    "    if list in \n",
    "print(\"the cubes are\", list2)"
   ]
  }
 ],
 "metadata": {
  "kernelspec": {
   "display_name": "Python 3 (ipykernel)",
   "language": "python",
   "name": "python3"
  },
  "language_info": {
   "codemirror_mode": {
    "name": "ipython",
    "version": 3
   },
   "file_extension": ".py",
   "mimetype": "text/x-python",
   "name": "python",
   "nbconvert_exporter": "python",
   "pygments_lexer": "ipython3",
   "version": "3.10.9"
  }
 },
 "nbformat": 4,
 "nbformat_minor": 5
}
