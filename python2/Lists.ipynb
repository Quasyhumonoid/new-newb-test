{
 "cells": [
  {
   "cell_type": "code",
   "execution_count": 11,
   "id": "701d81df",
   "metadata": {},
   "outputs": [
    {
     "name": "stdout",
     "output_type": "stream",
     "text": [
      "['camry', 'accord', 'civic', 'corolla']\n",
      "camry\n",
      "corolla\n",
      "elantra\n",
      "['camry', 'accord', 'sentra', 'civic', 'corolla', 'elantra']\n",
      "['camry', 'accord', 'sentra', 'civic', 'corolla', 'elantra', 'optima', 'soul']\n",
      "['accord', 'sentra', 'civic', 'corolla', 'elantra', 'optima', 'soul']\n"
     ]
    }
   ],
   "source": [
    "empty_list=[]\n",
    "list_str=['camry','accord','civic','corolla']\n",
    "list_int=[1,2,3,4,5]\n",
    "list_float=[1.2,2.3,3.4]\n",
    "print(list_str)\n",
    "print(list_str[0])\n",
    "print(list_str[-1])\n",
    "list_str.append('elantra')\n",
    "print(list_str[-1])\n",
    "list_str.insert(2, 'sentra')\n",
    "print(list_str)\n",
    "list_str.extend(['optima','soul'])\n",
    "print(list_str)\n",
    "list_str.index(\"elantra\")\n",
    "list_str.remove('camry')\n",
    "print(list_str)"
   ]
  },
  {
   "cell_type": "code",
   "execution_count": 12,
   "id": "49fa34ab",
   "metadata": {},
   "outputs": [
    {
     "name": "stdout",
     "output_type": "stream",
     "text": [
      "['accord', 'sentra', 'civic', 'corolla', 'elantra', 'optima', 'soul', 'focus', 'fiesta', 'prius', 'cooper', 'clubman', 'beetle', 'jetta', 'golf']\n",
      "['golf', 'jetta', 'beetle', 'clubman', 'cooper', 'prius', 'fiesta', 'focus', 'soul', 'optima', 'elantra', 'corolla', 'civic', 'sentra', 'accord']\n",
      "['focus', 'fiesta', 'prius', 'cooper', 'clubman', 'beetle', 'jetta']\n",
      "{'accord', 'civic'}\n",
      "['accord', 'beetle', 'civic', 'clubman', 'cooper', 'corolla', 'elantra', 'fiesta', 'focus', 'golf', 'jetta', 'optima', 'prius', 'sentra', 'soul']\n"
     ]
    }
   ],
   "source": [
    "list2=['focus','fiesta','prius','cooper','clubman','beetle','jetta','golf']\n",
    "cars_list = list_str + list2\n",
    "print(cars_list)\n",
    "list2.index\n",
    "cars_list.reverse()\n",
    "print (cars_list)\n",
    "list2.pop()\n",
    "print (list2)\n",
    "cars_list.count('civic')\n",
    "list2.clear()\n",
    "list2.extend(['accord','accord','civic'])\n",
    "print(set(list2))\n",
    "cars_list.sort()\n",
    "print(cars_list)"
   ]
  },
  {
   "cell_type": "code",
   "execution_count": 13,
   "id": "56ec000a",
   "metadata": {},
   "outputs": [
    {
     "name": "stdout",
     "output_type": "stream",
     "text": [
      "['accord', 'beetle', 'civic', 'clubman', 'cooper', 'corolla', 'elantra', 'fiesta', 'focus', 'golf', 'jetta', 'optima', 'prius', 'sentra', 'soul']\n",
      "['accord', 'beetle', 'civic', 'clubman', 'cooper', 'corolla', 'elantra', 'fiesta', 'focus', 'golf', 'jetta', 'optima', 'prius', 'sentra', 'soul']\n"
     ]
    }
   ],
   "source": [
    "import copy\n",
    "list_copy = copy.deepcopy(cars_list)\n",
    "print(list_copy)\n",
    "cars_list.append(\"cavelier\")\n",
    "print(list_copy)"
   ]
  },
  {
   "cell_type": "code",
   "execution_count": 14,
   "id": "f42ab1b1",
   "metadata": {},
   "outputs": [
    {
     "name": "stdout",
     "output_type": "stream",
     "text": [
      "['accord', 'beetle', 'civic', 'clubman', 'cooper', 'corolla', 'elantra', 'fiesta', 'focus', 'golf', 'jetta', 'optima', 'prius', 'sentra', 'soul']\n",
      "['accord', 'beetle', 'civic', 'clubman', 'cooper', 'corolla', 'elantra', 'fiesta', 'focus', 'golf', 'jetta', 'optima', 'prius', 'sentra']\n"
     ]
    }
   ],
   "source": [
    "print(list_copy)\n",
    "cars2 = list_copy\n",
    "list_copy.pop()\n",
    "print(cars2)"
   ]
  },
  {
   "cell_type": "code",
   "execution_count": 15,
   "id": "cb614883",
   "metadata": {},
   "outputs": [
    {
     "name": "stdout",
     "output_type": "stream",
     "text": [
      "['accord', 'beetle', 'civic', 'clubman', 'cooper', 'corolla', 'elantra', 'fiesta', 'focus', 'golf', 'jetta', 'optima', 'prius', 'sentra', 'sentra']\n",
      "['accord', 'beetle', 'civic', 'clubman', 'cooper', 'corolla', 'elantra', 'fiesta', 'focus', 'golf', 'jetta', 'optima', 'prius', 'sentra']\n"
     ]
    }
   ],
   "source": [
    "del cars2\n",
    "cars3 = copy.copy(list_copy)\n",
    "list_copy.append(\"sentra\")\n",
    "print(list_copy)\n",
    "print(cars3)"
   ]
  },
  {
   "cell_type": "code",
   "execution_count": 16,
   "id": "9dc5600c",
   "metadata": {},
   "outputs": [
    {
     "name": "stdout",
     "output_type": "stream",
     "text": [
      "[10, 20, 50, 70, 60, 15]\n",
      "70\n",
      "[10, 15, 20, 50, 60, 70]\n",
      "225\n",
      "False\n",
      "False\n",
      "True\n",
      "True\n"
     ]
    }
   ],
   "source": [
    "list_num=[10, 20, 50, 70, 60, 15]\n",
    "print(list_num)\n",
    "print(max(list_num))\n",
    "list_num2=sorted(list_num)\n",
    "print(list_num2)\n",
    "print(sum(list_num2))\n",
    "print(all([0]))\n",
    "print(all([1,0]))\n",
    "print(all([1]))\n",
    "print(any([1,0]))"
   ]
  },
  {
   "cell_type": "code",
   "execution_count": 23,
   "id": "b4728189",
   "metadata": {},
   "outputs": [
    {
     "name": "stdout",
     "output_type": "stream",
     "text": [
      "14\n",
      "corolla\n",
      "['accord', 'beetle', 'civic', 'clubman']\n",
      "['accord', 'beetle', 'civic']\n",
      "['clubman', 'cooper', 'corolla', 'elantra', 'fiesta', 'focus', 'golf', 'jetta', 'optima', 'prius', 'sentra']\n",
      "['jetta', 'optima']\n",
      "['accord', 'civic', 'cooper', 'elantra']\n",
      "['accord', 'clubman', 'elantra', 'golf', 'prius']\n",
      "['sentra', 'prius', 'optima', 'jetta', 'golf', 'focus', 'fiesta', 'elantra', 'corolla', 'cooper', 'clubman', 'civic', 'beetle', 'accord']\n"
     ]
    }
   ],
   "source": [
    "#list slicing\n",
    "print(len(cars3))\n",
    "print(cars3[5])\n",
    "print(cars3[0:4])\n",
    "print(cars3[:3])\n",
    "print(cars3[3:])\n",
    "print(cars3[-4:-2])\n",
    "#adding step size of 2 with :2 at the end\n",
    "print(cars3[:8:2])\n",
    "#to step through whole list requires the extra : but no beginning or end delineated\n",
    "print(cars3[::3])\n",
    "print(cars3[::-1])\n",
    "cars3[]\n"
   ]
  },
  {
   "cell_type": "code",
   "execution_count": null,
   "id": "c265a7f6",
   "metadata": {},
   "outputs": [],
   "source": []
  }
 ],
 "metadata": {
  "kernelspec": {
   "display_name": "Python 3 (ipykernel)",
   "language": "python",
   "name": "python3"
  },
  "language_info": {
   "codemirror_mode": {
    "name": "ipython",
    "version": 3
   },
   "file_extension": ".py",
   "mimetype": "text/x-python",
   "name": "python",
   "nbconvert_exporter": "python",
   "pygments_lexer": "ipython3",
   "version": "3.10.9"
  }
 },
 "nbformat": 4,
 "nbformat_minor": 5
}
