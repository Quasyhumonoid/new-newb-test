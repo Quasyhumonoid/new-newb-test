{
 "cells": [
  {
   "cell_type": "code",
   "execution_count": 4,
   "id": "53611671",
   "metadata": {},
   "outputs": [
    {
     "name": "stdout",
     "output_type": "stream",
     "text": [
      "Hello, I'm Jonathan Kirner\n"
     ]
    }
   ],
   "source": [
    "def my_introduction():\n",
    "    print(\"Hello, I\\'m Jonathan Kirner\")\n",
    "\n",
    "my_introduction()\n"
   ]
  },
  {
   "cell_type": "code",
   "execution_count": 5,
   "id": "407058f8",
   "metadata": {},
   "outputs": [
    {
     "data": {
      "text/plain": [
       "<function __main__.hello(name)>"
      ]
     },
     "execution_count": 5,
     "metadata": {},
     "output_type": "execute_result"
    }
   ],
   "source": [
    "def hello(name):\n",
    "    \"\"\" This function takes a name and creates the greeting \"\"\"\n",
    "    print(\"Hello,\", name)\n",
    "hello"
   ]
  },
  {
   "cell_type": "code",
   "execution_count": 6,
   "id": "96c208a9",
   "metadata": {
    "scrolled": true
   },
   "outputs": [
    {
     "data": {
      "text/plain": [
       "' This function takes a name and creates the greeting '"
      ]
     },
     "execution_count": 6,
     "metadata": {},
     "output_type": "execute_result"
    }
   ],
   "source": [
    "hello.__doc__"
   ]
  },
  {
   "cell_type": "code",
   "execution_count": 7,
   "id": "4833991e",
   "metadata": {},
   "outputs": [
    {
     "name": "stdout",
     "output_type": "stream",
     "text": [
      "Hello, dummy\n",
      "Welcome to iowa !\n",
      "Welcome to dakota !\n"
     ]
    }
   ],
   "source": [
    "greeting = hello\n",
    "greeting('dummy')\n",
    "state = 'iowa'\n",
    "def Welcome():\n",
    "    \"\"\"This function welcomes the individual\"\"\"\n",
    "    print(\"Welcome to\", state, \"!\")\n",
    "Welcome()\n",
    "state ='dakota'\n",
    "Welcome()"
   ]
  },
  {
   "cell_type": "code",
   "execution_count": 8,
   "id": "27983b0c",
   "metadata": {},
   "outputs": [
    {
     "name": "stdout",
     "output_type": "stream",
     "text": [
      "4\n",
      "-2\n"
     ]
    }
   ],
   "source": [
    "def addsub(num1, num2):\n",
    "    return num1 + num2, num1 - num2\n",
    "add, sub = addsub(1,3)\n",
    "print(add)\n",
    "print(sub)"
   ]
  },
  {
   "cell_type": "code",
   "execution_count": 9,
   "id": "398644b5",
   "metadata": {},
   "outputs": [
    {
     "name": "stdout",
     "output_type": "stream",
     "text": [
      "(55, 95, 77, 100)\n",
      "327\n"
     ]
    }
   ],
   "source": [
    "def score(typ, test1, test2, test3, test4):\n",
    "    if typ == \"order\":\n",
    "        return test1, test2, test3, test4\n",
    "    elif typ == \"total\":\n",
    "        return test1 + test2 + test3 + test4\n",
    "print(score(\"order\", test1=55, test4=100, test2=95, test3=77))\n",
    "print(score(\"total\", test1=55, test4=100, test2=95, test3=77))"
   ]
  },
  {
   "cell_type": "code",
   "execution_count": 10,
   "id": "848a742d",
   "metadata": {},
   "outputs": [
    {
     "name": "stdout",
     "output_type": "stream",
     "text": [
      "print(value, ..., sep=' ', end='\\n', file=sys.stdout, flush=False)\n",
      "\n",
      "Prints the values to a stream, or to sys.stdout by default.\n",
      "Optional keyword arguments:\n",
      "file:  a file-like object (stream); defaults to the current sys.stdout.\n",
      "sep:   string inserted between values, default a space.\n",
      "end:   string appended after the last value, default a newline.\n",
      "flush: whether to forcibly flush the stream.\n"
     ]
    }
   ],
   "source": [
    "print(print.__doc__)"
   ]
  },
  {
   "cell_type": "code",
   "execution_count": 11,
   "id": "2e4017a7",
   "metadata": {},
   "outputs": [
    {
     "name": "stdout",
     "output_type": "stream",
     "text": [
      "(0, 95, 77, 100)\n",
      "272\n"
     ]
    }
   ],
   "source": [
    "def score(typ, test1=0, test2=0, test3=0, test4=0):\n",
    "    if typ == \"order\":\n",
    "        return test1, test2, test3, test4\n",
    "    elif typ == \"total\":\n",
    "        return test1 + test2 + test3 + test4\n",
    "print(score(\"order\", test4=100, test2=95, test3=77))\n",
    "print(score(\"total\", test4=100, test2=95, test3=77))"
   ]
  },
  {
   "cell_type": "code",
   "execution_count": 12,
   "id": "c15ad176",
   "metadata": {},
   "outputs": [
    {
     "name": "stdout",
     "output_type": "stream",
     "text": [
      "272\n"
     ]
    }
   ],
   "source": [
    "def score(typ, *test):\n",
    "    if typ == \"order\":\n",
    "        return sort(test)\n",
    "    elif typ == \"total\":\n",
    "        return sum(test)\n",
    "print(score(\"total\", 100, 95, 77))"
   ]
  },
  {
   "cell_type": "code",
   "execution_count": 13,
   "id": "42166a88",
   "metadata": {},
   "outputs": [
    {
     "name": "stdout",
     "output_type": "stream",
     "text": [
      "<class 'list'>\n",
      "272\n"
     ]
    }
   ],
   "source": [
    "def score(**kwargs):\n",
    "    typ = kwargs.pop(\"typ\")\n",
    "    if typ == \"order\":\n",
    "        list\n",
    "        return list\n",
    "    elif typ == \"total\":\n",
    "        return sum(kwargs.values())\n",
    "print(score(typ=\"order\", test4=100, test2=95, test3=77))\n",
    "print(score(typ=\"total\", test4=100, test2=95, test3=77))"
   ]
  },
  {
   "cell_type": "code",
   "execution_count": 14,
   "id": "6e137349",
   "metadata": {},
   "outputs": [
    {
     "name": "stdout",
     "output_type": "stream",
     "text": [
      "is dakota correct?\n",
      "Enter your state: eyeoowah\n",
      "What city? dehmoin\n",
      "current location dehmoin eyeoowah\n"
     ]
    }
   ],
   "source": [
    "def location():\n",
    "    global state\n",
    "    print(f\"is {state} correct?\")\n",
    "    state=input(\"Enter your state: \")\n",
    "    city=input(\"What city? \")\n",
    "    print(\"current location\", city, state)\n",
    "location()"
   ]
  },
  {
   "cell_type": "code",
   "execution_count": 16,
   "id": "af4d6e0e",
   "metadata": {},
   "outputs": [
    {
     "name": "stdout",
     "output_type": "stream",
     "text": [
      "length of \"somestring\" is: 10\n"
     ]
    }
   ],
   "source": [
    "#Functions as first class citizens: they can be assigned to other variables because all python datatypes are object oriented\n",
    "calc_lenth = len\n",
    "print(\"length of \\\"somestring\\\" is:\", calc_lenth(\"somestring\"))"
   ]
  },
  {
   "cell_type": "code",
   "execution_count": 23,
   "id": "06943262",
   "metadata": {},
   "outputs": [
    {
     "name": "stdout",
     "output_type": "stream",
     "text": [
      "1: 20\n",
      "2: 62.83185307179586\n",
      "3: 314.1592653589793\n",
      "4: 120\n",
      "5: 44\n"
     ]
    }
   ],
   "source": [
    "import math\n",
    "def circarea(radius):\n",
    "    return math.pi*radius*radius\n",
    "def circdiam(radius):\n",
    "    return 2*radius\n",
    "def circperi(radius):\n",
    "    return circdiam(radius)*math.pi\n",
    "def rectdiam(x, y):\n",
    "    return 2*x+2*y\n",
    "def rectarea(x,y):\n",
    "    return x*y\n",
    "def calculate(*args, fn):\n",
    "    return fn(*args)\n",
    "print(\"1:\",calculate(10, fn=circdiam))\n",
    "print(\"2:\",calculate(10, fn=circperi))\n",
    "print(\"3:\",calculate(10, fn=circarea))\n",
    "print(\"4:\",calculate(10, 12, fn=rectarea))\n",
    "print(\"5:\",calculate(10, 12, fn=rectdiam))"
   ]
  },
  {
   "cell_type": "code",
   "execution_count": 32,
   "id": "dcc37b1f",
   "metadata": {},
   "outputs": [
    {
     "name": "stdout",
     "output_type": "stream",
     "text": [
      "1: 10\n",
      "2: 5\n"
     ]
    }
   ],
   "source": [
    "#functions as return values\n",
    "def add(a,b):\n",
    "    return a+b\n",
    "def sub(a,b):\n",
    "    return a-b\n",
    "operators={\n",
    "    \"+\": add,\n",
    "    \"-\": sub\n",
    "}\n",
    "print(\"1:\", operators[\"+\"](5,5))\n",
    "print(\"2:\", operators[\"-\"](10,5))"
   ]
  },
  {
   "cell_type": "code",
   "execution_count": 41,
   "id": "e00528bd",
   "metadata": {},
   "outputs": [
    {
     "name": "stdout",
     "output_type": "stream",
     "text": [
      "125\n",
      "11\n",
      "250\n",
      "6\n"
     ]
    }
   ],
   "source": [
    "#lambdas: simple nameless functions with a single-line expression without keyword arguments\n",
    "cube = lambda x: x*x*x\n",
    "print(cube(5))\n",
    "add = lambda x,y: x+y\n",
    "print(add(5,6))\n",
    "print((lambda x: 50*x)(5))\n",
    "print((lambda *args: sum(args))(1,5))"
   ]
  },
  {
   "cell_type": "code",
   "execution_count": 46,
   "id": "7c2156b0",
   "metadata": {},
   "outputs": [
    {
     "name": "stdout",
     "output_type": "stream",
     "text": [
      "[77]\n"
     ]
    }
   ],
   "source": [
    "numlist=(1,3,6,77,5,6,)\n",
    "filtered = filter(lambda x: x > 10, numlist)\n",
    "print(list(filtered))"
   ]
  },
  {
   "cell_type": "code",
   "execution_count": null,
   "id": "6538811c",
   "metadata": {},
   "outputs": [],
   "source": []
  }
 ],
 "metadata": {
  "kernelspec": {
   "display_name": "Python 3 (ipykernel)",
   "language": "python",
   "name": "python3"
  },
  "language_info": {
   "codemirror_mode": {
    "name": "ipython",
    "version": 3
   },
   "file_extension": ".py",
   "mimetype": "text/x-python",
   "name": "python",
   "nbconvert_exporter": "python",
   "pygments_lexer": "ipython3",
   "version": "3.9.6"
  }
 },
 "nbformat": 4,
 "nbformat_minor": 5
}
