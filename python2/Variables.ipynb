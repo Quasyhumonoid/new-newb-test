{
 "cells": [
  {
   "cell_type": "code",
   "execution_count": 1,
   "id": "aefb8387",
   "metadata": {},
   "outputs": [],
   "source": [
    "x = 24000"
   ]
  },
  {
   "cell_type": "code",
   "execution_count": 2,
   "id": "0f5275b3",
   "metadata": {},
   "outputs": [],
   "source": [
    "y = 5000"
   ]
  },
  {
   "cell_type": "code",
   "execution_count": 3,
   "id": "953ad2b5",
   "metadata": {},
   "outputs": [
    {
     "data": {
      "text/plain": [
       "29000"
      ]
     },
     "execution_count": 3,
     "metadata": {},
     "output_type": "execute_result"
    }
   ],
   "source": [
    "x + y"
   ]
  },
  {
   "cell_type": "code",
   "execution_count": 4,
   "id": "24893c8c",
   "metadata": {},
   "outputs": [],
   "source": [
    "account_savings = 1000"
   ]
  },
  {
   "cell_type": "code",
   "execution_count": 5,
   "id": "a47d505c",
   "metadata": {},
   "outputs": [],
   "source": [
    "account_checking = 500"
   ]
  },
  {
   "cell_type": "code",
   "execution_count": 6,
   "id": "4b743a2c",
   "metadata": {},
   "outputs": [
    {
     "name": "stdout",
     "output_type": "stream",
     "text": [
      "1500\n"
     ]
    }
   ],
   "source": [
    "print(account_savings+account_checking)"
   ]
  },
  {
   "cell_type": "code",
   "execution_count": 7,
   "id": "5b6767d2",
   "metadata": {},
   "outputs": [],
   "source": [
    "string =\"1\""
   ]
  },
  {
   "cell_type": "code",
   "execution_count": 8,
   "id": "68980952",
   "metadata": {},
   "outputs": [],
   "source": [
    "integer = 1"
   ]
  },
  {
   "cell_type": "code",
   "execution_count": 13,
   "id": "e2798bd5",
   "metadata": {},
   "outputs": [],
   "source": [
    "string = int(string)"
   ]
  },
  {
   "cell_type": "code",
   "execution_count": 14,
   "id": "d47137b5",
   "metadata": {},
   "outputs": [
    {
     "name": "stdout",
     "output_type": "stream",
     "text": [
      "2\n"
     ]
    }
   ],
   "source": [
    "print (string+integer)"
   ]
  },
  {
   "cell_type": "code",
   "execution_count": 15,
   "id": "4893c60b",
   "metadata": {},
   "outputs": [],
   "source": [
    "integer = str(integer)"
   ]
  },
  {
   "cell_type": "code",
   "execution_count": 16,
   "id": "e3c7686a",
   "metadata": {},
   "outputs": [
    {
     "name": "stdout",
     "output_type": "stream",
     "text": [
      "11\n"
     ]
    }
   ],
   "source": [
    "print(integer+integer)"
   ]
  },
  {
   "cell_type": "code",
   "execution_count": 17,
   "id": "f95f5c2a",
   "metadata": {},
   "outputs": [],
   "source": [
    "boolean = bool(integer)"
   ]
  },
  {
   "cell_type": "code",
   "execution_count": 18,
   "id": "3dbcc70a",
   "metadata": {},
   "outputs": [
    {
     "name": "stdout",
     "output_type": "stream",
     "text": [
      "True\n"
     ]
    }
   ],
   "source": [
    "print (boolean)"
   ]
  },
  {
   "cell_type": "code",
   "execution_count": 19,
   "id": "4cfd9e1e",
   "metadata": {},
   "outputs": [],
   "source": [
    "x = True\n",
    "y = False"
   ]
  },
  {
   "cell_type": "code",
   "execution_count": 22,
   "id": "14cb8cfc",
   "metadata": {},
   "outputs": [
    {
     "name": "stdout",
     "output_type": "stream",
     "text": [
      "False\n"
     ]
    }
   ],
   "source": [
    "z = x and y\n",
    "print(z)"
   ]
  },
  {
   "cell_type": "code",
   "execution_count": 23,
   "id": "ee7196fe",
   "metadata": {},
   "outputs": [
    {
     "name": "stdout",
     "output_type": "stream",
     "text": [
      "True\n"
     ]
    }
   ],
   "source": [
    "z = x or y\n",
    "print(z)"
   ]
  },
  {
   "cell_type": "code",
   "execution_count": 24,
   "id": "7b960e6c",
   "metadata": {},
   "outputs": [
    {
     "name": "stdout",
     "output_type": "stream",
     "text": [
      "False\n"
     ]
    }
   ],
   "source": [
    "print(not x)"
   ]
  },
  {
   "cell_type": "code",
   "execution_count": 25,
   "id": "98238612",
   "metadata": {},
   "outputs": [
    {
     "name": "stdout",
     "output_type": "stream",
     "text": [
      "True\n"
     ]
    }
   ],
   "source": [
    "print(not y)"
   ]
  },
  {
   "cell_type": "code",
   "execution_count": 28,
   "id": "8d8557d9",
   "metadata": {},
   "outputs": [
    {
     "name": "stdout",
     "output_type": "stream",
     "text": [
      "python python python\n"
     ]
    }
   ],
   "source": [
    "x=y=z=\"python\"\n",
    "print(x,y,z)"
   ]
  },
  {
   "cell_type": "code",
   "execution_count": 29,
   "id": "6ba38d1c",
   "metadata": {},
   "outputs": [
    {
     "name": "stdout",
     "output_type": "stream",
     "text": [
      "True\n"
     ]
    }
   ],
   "source": [
    "f = y ==x\n",
    "print(f)"
   ]
  },
  {
   "cell_type": "code",
   "execution_count": 39,
   "id": "ceb05a82",
   "metadata": {},
   "outputs": [
    {
     "name": "stdout",
     "output_type": "stream",
     "text": [
      "6\n",
      "7\n"
     ]
    }
   ],
   "source": [
    "print(string)\n",
    "string += 1\n",
    "print(string)"
   ]
  },
  {
   "cell_type": "code",
   "execution_count": 41,
   "id": "9012b677",
   "metadata": {},
   "outputs": [
    {
     "name": "stdout",
     "output_type": "stream",
     "text": [
      "175\n"
     ]
    }
   ],
   "source": [
    "string *= 5\n",
    "print(string)"
   ]
  },
  {
   "cell_type": "code",
   "execution_count": 42,
   "id": "efa7b198",
   "metadata": {},
   "outputs": [
    {
     "name": "stdout",
     "output_type": "stream",
     "text": [
      "14.583333333333334\n"
     ]
    }
   ],
   "source": [
    "string /=12\n",
    "print(string)"
   ]
  },
  {
   "cell_type": "code",
   "execution_count": 43,
   "id": "dc46b637",
   "metadata": {},
   "outputs": [
    {
     "name": "stdout",
     "output_type": "stream",
     "text": [
      "4.583333333333334\n"
     ]
    }
   ],
   "source": [
    "string %=5\n",
    "print(string)"
   ]
  },
  {
   "cell_type": "code",
   "execution_count": 52,
   "id": "5785d618",
   "metadata": {},
   "outputs": [
    {
     "name": "stdout",
     "output_type": "stream",
     "text": [
      "stuff\n",
      "stuff\n"
     ]
    }
   ],
   "source": [
    "what = input()\n",
    "print(what)"
   ]
  },
  {
   "cell_type": "code",
   "execution_count": 65,
   "id": "cd1516e4",
   "metadata": {},
   "outputs": [
    {
     "name": "stdout",
     "output_type": "stream",
     "text": [
      "I'm ugly\n",
      "I'm not that ugly\n"
     ]
    }
   ],
   "source": [
    "print(\"I'm ugly\")\n",
    "print('I\\'m not that ugly')"
   ]
  },
  {
   "cell_type": "code",
   "execution_count": 66,
   "id": "2b33cfb0",
   "metadata": {},
   "outputs": [
    {
     "name": "stdout",
     "output_type": "stream",
     "text": [
      "He said, \"You suck!\"\n",
      "They said, \"That's not my name\"\n"
     ]
    }
   ],
   "source": [
    "print('He said, \"You suck!\"')\n",
    "print(\"They said, \\\"That's not my name\\\"\")"
   ]
  },
  {
   "cell_type": "code",
   "execution_count": 64,
   "id": "925e359b",
   "metadata": {},
   "outputs": [
    {
     "name": "stdout",
     "output_type": "stream",
     "text": [
      "line 1 \n",
      "line2\n",
      "line 1 \n",
      "line2\n",
      "line 1 \n",
      "line2\n"
     ]
    }
   ],
   "source": [
    "print(\"line 1 \\nline2\")\n",
    "print(\"\"\"line 1 \n",
    "line2\"\"\")\n",
    "print('''line 1 \n",
    "line2''')"
   ]
  },
  {
   "cell_type": "code",
   "execution_count": 63,
   "id": "46dfcb9d",
   "metadata": {},
   "outputs": [
    {
     "name": "stdout",
     "output_type": "stream",
     "text": [
      "A dog barks!\n",
      "A dog barks!\n",
      "A dog barks!\n"
     ]
    }
   ],
   "source": [
    "onomat = 'barks'\n",
    "print('A dog '+ onomat + '!')\n",
    "print(f'A dog {onomat}!')\n",
    "print('A dog {}!'.format(onomat))"
   ]
  },
  {
   "cell_type": "code",
   "execution_count": 69,
   "id": "167da88b",
   "metadata": {},
   "outputs": [
    {
     "name": "stdout",
     "output_type": "stream",
     "text": [
      "\thello world!\n",
      "\t\t\thello World!\n"
     ]
    }
   ],
   "source": [
    "print(\"\\thello world!\")\n",
    "print(\"\\t\\t\\thello World!\")"
   ]
  },
  {
   "cell_type": "code",
   "execution_count": 71,
   "id": "d86542dd",
   "metadata": {},
   "outputs": [
    {
     "name": "stdout",
     "output_type": "stream",
     "text": [
      "https:\\\\www.google.com\\\n"
     ]
    }
   ],
   "source": [
    "print(\"https:\\\\\\\\www.google.com\\\\\")"
   ]
  },
  {
   "cell_type": "code",
   "execution_count": null,
   "id": "b2b3df6f",
   "metadata": {},
   "outputs": [],
   "source": []
  }
 ],
 "metadata": {
  "kernelspec": {
   "display_name": "Python 3 (ipykernel)",
   "language": "python",
   "name": "python3"
  },
  "language_info": {
   "codemirror_mode": {
    "name": "ipython",
    "version": 3
   },
   "file_extension": ".py",
   "mimetype": "text/x-python",
   "name": "python",
   "nbconvert_exporter": "python",
   "pygments_lexer": "ipython3",
   "version": "3.10.9"
  }
 },
 "nbformat": 4,
 "nbformat_minor": 5
}
