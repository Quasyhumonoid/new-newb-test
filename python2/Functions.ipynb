{
 "cells": [
  {
   "cell_type": "code",
   "execution_count": 3,
   "id": "53611671",
   "metadata": {},
   "outputs": [
    {
     "name": "stdout",
     "output_type": "stream",
     "text": [
      "Hello, I'm Jonathan Kirner\n"
     ]
    }
   ],
   "source": [
    "def my_introduction():\n",
    "    print(\"Hello, I\\'m Jonathan Kirner\")\n",
    "\n",
    "my_introduction()\n"
   ]
  },
  {
   "cell_type": "code",
   "execution_count": 30,
   "id": "407058f8",
   "metadata": {},
   "outputs": [
    {
     "data": {
      "text/plain": [
       "<function __main__.hello(name)>"
      ]
     },
     "execution_count": 30,
     "metadata": {},
     "output_type": "execute_result"
    }
   ],
   "source": [
    "def hello(name):\n",
    "    \"\"\" This function takes a name and creates the greeting \"\"\"\n",
    "    print(\"Hello,\", name)\n",
    "hello"
   ]
  },
  {
   "cell_type": "code",
   "execution_count": 31,
   "id": "96c208a9",
   "metadata": {
    "scrolled": true
   },
   "outputs": [
    {
     "data": {
      "text/plain": [
       "' This function takes a name and creates the greeting '"
      ]
     },
     "execution_count": 31,
     "metadata": {},
     "output_type": "execute_result"
    }
   ],
   "source": [
    "hello.__doc__"
   ]
  },
  {
   "cell_type": "code",
   "execution_count": 37,
   "id": "4833991e",
   "metadata": {},
   "outputs": [
    {
     "name": "stdout",
     "output_type": "stream",
     "text": [
      "Hello, dummy\n",
      "Welcome to iowa !\n",
      "Welcome to dakota !\n"
     ]
    }
   ],
   "source": [
    "greeting = hello\n",
    "greeting('dummy')\n",
    "state = 'iowa'\n",
    "def Welcome():\n",
    "    \"\"\"This function welcomes the individual\"\"\"\n",
    "    print(\"Welcome to\", state, \"!\")\n",
    "Welcome()\n",
    "state ='dakota'\n",
    "Welcome()"
   ]
  },
  {
   "cell_type": "code",
   "execution_count": null,
   "id": "27983b0c",
   "metadata": {},
   "outputs": [],
   "source": []
  }
 ],
 "metadata": {
  "kernelspec": {
   "display_name": "Python 3 (ipykernel)",
   "language": "python",
   "name": "python3"
  },
  "language_info": {
   "codemirror_mode": {
    "name": "ipython",
    "version": 3
   },
   "file_extension": ".py",
   "mimetype": "text/x-python",
   "name": "python",
   "nbconvert_exporter": "python",
   "pygments_lexer": "ipython3",
   "version": "3.10.9"
  }
 },
 "nbformat": 4,
 "nbformat_minor": 5
}
