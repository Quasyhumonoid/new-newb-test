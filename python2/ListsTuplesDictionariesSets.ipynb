{
 "cells": [
  {
   "cell_type": "code",
   "execution_count": 35,
   "id": "701d81df",
   "metadata": {},
   "outputs": [
    {
     "name": "stdout",
     "output_type": "stream",
     "text": [
      "['camry', 'accord', 'civic', 'corolla']\n",
      "camry\n",
      "corolla\n",
      "elantra\n",
      "['camry', 'accord', 'sentra', 'civic', 'corolla', 'elantra']\n",
      "['camry', 'accord', 'sentra', 'civic', 'corolla', 'elantra', 'optima', 'soul']\n",
      "5\n",
      "['accord', 'sentra', 'civic', 'corolla', 'elantra', 'optima', 'soul']\n"
     ]
    }
   ],
   "source": [
    "empty_list=[]\n",
    "list_str=['camry','accord','civic','corolla']\n",
    "list_int=[1,2,3,4,5]\n",
    "list_float=[1.2,2.3,3.4]\n",
    "print(list_str)\n",
    "print(list_str[0])\n",
    "print(list_str[-1])\n",
    "list_str.append('elantra')\n",
    "print(list_str[-1])\n",
    "list_str.insert(2, 'sentra')\n",
    "print(list_str)\n",
    "list_str.extend(['optima','soul'])\n",
    "print(list_str)\n",
    "print(list_str.index(\"elantra\"))\n",
    "list_str.remove('camry')\n",
    "print(list_str)"
   ]
  },
  {
   "cell_type": "code",
   "execution_count": 12,
   "id": "49fa34ab",
   "metadata": {},
   "outputs": [
    {
     "name": "stdout",
     "output_type": "stream",
     "text": [
      "['accord', 'sentra', 'civic', 'corolla', 'elantra', 'optima', 'soul', 'focus', 'fiesta', 'prius', 'cooper', 'clubman', 'beetle', 'jetta', 'golf']\n",
      "['golf', 'jetta', 'beetle', 'clubman', 'cooper', 'prius', 'fiesta', 'focus', 'soul', 'optima', 'elantra', 'corolla', 'civic', 'sentra', 'accord']\n",
      "['focus', 'fiesta', 'prius', 'cooper', 'clubman', 'beetle', 'jetta']\n",
      "{'accord', 'civic'}\n",
      "['accord', 'beetle', 'civic', 'clubman', 'cooper', 'corolla', 'elantra', 'fiesta', 'focus', 'golf', 'jetta', 'optima', 'prius', 'sentra', 'soul']\n"
     ]
    }
   ],
   "source": [
    "list2=['focus','fiesta','prius','cooper','clubman','beetle','jetta','golf']\n",
    "cars_list = list_str + list2\n",
    "print(cars_list)\n",
    "list2.index\n",
    "cars_list.reverse()\n",
    "print (cars_list)\n",
    "list2.pop()\n",
    "print (list2)\n",
    "cars_list.count('civic')\n",
    "list2.clear()\n",
    "list2.extend(['accord','accord','civic'])\n",
    "print(set(list2))\n",
    "cars_list.sort()\n",
    "print(cars_list)"
   ]
  },
  {
   "cell_type": "code",
   "execution_count": 13,
   "id": "56ec000a",
   "metadata": {},
   "outputs": [
    {
     "name": "stdout",
     "output_type": "stream",
     "text": [
      "['accord', 'beetle', 'civic', 'clubman', 'cooper', 'corolla', 'elantra', 'fiesta', 'focus', 'golf', 'jetta', 'optima', 'prius', 'sentra', 'soul']\n",
      "['accord', 'beetle', 'civic', 'clubman', 'cooper', 'corolla', 'elantra', 'fiesta', 'focus', 'golf', 'jetta', 'optima', 'prius', 'sentra', 'soul']\n"
     ]
    }
   ],
   "source": [
    "import copy\n",
    "list_copy = copy.deepcopy(cars_list)\n",
    "print(list_copy)\n",
    "cars_list.append(\"cavelier\")\n",
    "print(list_copy)"
   ]
  },
  {
   "cell_type": "code",
   "execution_count": 14,
   "id": "f42ab1b1",
   "metadata": {},
   "outputs": [
    {
     "name": "stdout",
     "output_type": "stream",
     "text": [
      "['accord', 'beetle', 'civic', 'clubman', 'cooper', 'corolla', 'elantra', 'fiesta', 'focus', 'golf', 'jetta', 'optima', 'prius', 'sentra', 'soul']\n",
      "['accord', 'beetle', 'civic', 'clubman', 'cooper', 'corolla', 'elantra', 'fiesta', 'focus', 'golf', 'jetta', 'optima', 'prius', 'sentra']\n"
     ]
    }
   ],
   "source": [
    "print(list_copy)\n",
    "cars2 = list_copy\n",
    "list_copy.pop()\n",
    "print(cars2)"
   ]
  },
  {
   "cell_type": "code",
   "execution_count": 15,
   "id": "cb614883",
   "metadata": {},
   "outputs": [
    {
     "name": "stdout",
     "output_type": "stream",
     "text": [
      "['accord', 'beetle', 'civic', 'clubman', 'cooper', 'corolla', 'elantra', 'fiesta', 'focus', 'golf', 'jetta', 'optima', 'prius', 'sentra', 'sentra']\n",
      "['accord', 'beetle', 'civic', 'clubman', 'cooper', 'corolla', 'elantra', 'fiesta', 'focus', 'golf', 'jetta', 'optima', 'prius', 'sentra']\n"
     ]
    }
   ],
   "source": [
    "del cars2\n",
    "cars3 = copy.copy(list_copy)\n",
    "list_copy.append(\"sentra\")\n",
    "print(list_copy)\n",
    "print(cars3)"
   ]
  },
  {
   "cell_type": "code",
   "execution_count": 16,
   "id": "9dc5600c",
   "metadata": {},
   "outputs": [
    {
     "name": "stdout",
     "output_type": "stream",
     "text": [
      "[10, 20, 50, 70, 60, 15]\n",
      "70\n",
      "[10, 15, 20, 50, 60, 70]\n",
      "225\n",
      "False\n",
      "False\n",
      "True\n",
      "True\n"
     ]
    }
   ],
   "source": [
    "list_num=[10, 20, 50, 70, 60, 15]\n",
    "print(list_num)\n",
    "print(max(list_num))\n",
    "list_num2=sorted(list_num)\n",
    "print(list_num2)\n",
    "print(sum(list_num2))\n",
    "print(all([0]))\n",
    "print(all([1,0]))\n",
    "print(all([1]))\n",
    "print(any([1,0]))"
   ]
  },
  {
   "cell_type": "code",
   "execution_count": 23,
   "id": "97051660",
   "metadata": {},
   "outputs": [
    {
     "name": "stdout",
     "output_type": "stream",
     "text": [
      "14\n",
      "corolla\n",
      "['accord', 'beetle', 'civic', 'clubman']\n",
      "['accord', 'beetle', 'civic']\n",
      "['clubman', 'cooper', 'corolla', 'elantra', 'fiesta', 'focus', 'golf', 'jetta', 'optima', 'prius', 'sentra']\n",
      "['jetta', 'optima']\n",
      "['accord', 'civic', 'cooper', 'elantra']\n",
      "['accord', 'clubman', 'elantra', 'golf', 'prius']\n",
      "['sentra', 'prius', 'optima', 'jetta', 'golf', 'focus', 'fiesta', 'elantra', 'corolla', 'cooper', 'clubman', 'civic', 'beetle', 'accord']\n"
     ]
    }
   ],
   "source": [
    "#list slicing\n",
    "#beginning indexes are inclusive and end indexes are exclusive\n",
    "print(len(cars3))\n",
    "print(cars3[5])\n",
    "print(cars3[0:4])\n",
    "print(cars3[:3])\n",
    "print(cars3[3:])\n",
    "print(cars3[-4:-2])\n",
    "#adding step size of 2 with :2 at the end\n",
    "print(cars3[:8:2])\n",
    "#to step through whole list requires the extra : but no beginning or end delineated\n",
    "print(cars3[::3])\n",
    "print(cars3[::-1])\n",
    "cars3[]\n"
   ]
  },
  {
   "cell_type": "code",
   "execution_count": 57,
   "id": "a1dc74a1",
   "metadata": {},
   "outputs": [
    {
     "name": "stdout",
     "output_type": "stream",
     "text": [
      "W\n",
      "l\n",
      "W o r l d\n",
      "d\n",
      "Where are you from?: marshalltown\n",
      "marsha\n",
      "False\n",
      "True\n",
      "2\n",
      "MARSHALLTOWN\n",
      "marshalltown\n",
      "town\n",
      "['sherlock', 's01e02', '1080']\n",
      "sherlock s01e02 1080\n",
      "sherlock*s01e02*1080\n"
     ]
    }
   ],
   "source": [
    "#String slicing\n",
    "X = 'World'\n",
    "print(X[0])\n",
    "print(X[-2])\n",
    "a, b, c, d, e = X\n",
    "print(a, b, c, d, e)\n",
    "a, b, _, _, _, = X\n",
    "print(_)\n",
    "place = input('Where are you from?: ')\n",
    "length = len(place)\n",
    "length //= 2\n",
    "print(place[:length])\n",
    "print(place.startswith('n'))\n",
    "print(place.endswith('town'))\n",
    "print(place.count('l'))\n",
    "print(place.upper())\n",
    "print(place.lower())\n",
    "pos = place.find('town')\n",
    "print(place[pos:])\n",
    "filename = 'sherlock.s01e02.1080'\n",
    "Split = filename.split('.')\n",
    "print(Split)\n",
    "join_char=' '\n",
    "print(join_char.join(Split))\n",
    "print(\"*\".join(Split))"
   ]
  },
  {
   "cell_type": "code",
   "execution_count": 81,
   "id": "5cc71820",
   "metadata": {},
   "outputs": [
    {
     "name": "stdout",
     "output_type": "stream",
     "text": [
      "<class 'tuple'>\n",
      "(1, 2, 3, 3, 4, 5)\n",
      "<class 'tuple'>\n",
      "((1, 2, 3), (3, 4, 5), (5, 6, 'g'))\n",
      "g\n",
      "g\n",
      "True\n",
      "6\n",
      "[(1, 2, 3), (3, 4, 5), (5, 6, 'g')]\n",
      "{1, 2, 3, 4, 5}\n",
      "<zip object at 0x0000024333AA6F40>\n",
      "((1, 'a'), (2, 'b'), (3, 'c'), (4, 'd'), (5, 'e'), (6, 'f'))\n",
      "(1, 2, 3, 4, 5, 6) ('a', 'b', 'c', 'd', 'e', 'f')\n"
     ]
    }
   ],
   "source": [
    "#tuples\n",
    "tuple1 = ()\n",
    "print(type(tuple1))\n",
    "tuple1 = (1, 2, 3)\n",
    "tuple2 = (3, 4, 5)\n",
    "tuple3 = (tuple1 + tuple2)\n",
    "print(tuple3)\n",
    "tuple4 = 5, 6, 'g'\n",
    "print(type(tuple4))\n",
    "tuple5 = tuple1, tuple2, tuple4\n",
    "print(tuple5)\n",
    "var1, var2, var3 = tuple4\n",
    "print(var3)\n",
    "print(tuple5[2][2])\n",
    "print('g' in tuple4)\n",
    "print(sum(tuple1))\n",
    "print(list(tuple5))\n",
    "print(set(tuple3))\n",
    "#you can't insert or remove values from tuples\n",
    "#you can edit lists if they're in a tuple though\n",
    "tuple7 = (1,2,3,4,5,6)\n",
    "tuple8 = ('a','b','c','d','e','f')\n",
    "zipped=zip(tuple7, tuple8)\n",
    "print(zipped)\n",
    "coor = tuple(zipped)\n",
    "print(coor)\n",
    "tuple9, tuple10 = zip(*coor)\n",
    "print(tuple9, tuple10)"
   ]
  },
  {
   "cell_type": "code",
   "execution_count": 129,
   "id": "8825abd8",
   "metadata": {},
   "outputs": [
    {
     "name": "stdout",
     "output_type": "stream",
     "text": [
      "['mom', 'dad', 'spouse']\n",
      "['Pat', 'Tom', 'Em']\n",
      "{'mom': 'Pat', 'dad': 'Tom', 'spouse': 'Em'}\n",
      "Pat\n",
      "dict_keys(['mom', 'dad', 'spouse'])\n",
      "dict_values(['Pat', 'Tom', 'Em'])\n",
      "Em\n",
      "['dad', 'mom', 'spouse']\n",
      "['spouse', 'mom', 'dad']\n",
      "['Em', 'Pat', 'Tom']\n",
      "dict_items([('mom', 'Pat'), ('dad', 'Tom'), ('spouse', 'Em')])\n",
      "{'mom': 'Pat', 'dad': 'Tom'}\n",
      "Em\n",
      "{'mom': 'Pat'}\n"
     ]
    },
    {
     "ename": "TypeError",
     "evalue": "unsupported operand type(s) for +: 'dict' and 'dict'",
     "output_type": "error",
     "traceback": [
      "\u001b[1;31m---------------------------------------------------------------------------\u001b[0m",
      "\u001b[1;31mTypeError\u001b[0m                                 Traceback (most recent call last)",
      "Cell \u001b[1;32mIn[129], line 27\u001b[0m\n\u001b[0;32m     25\u001b[0m \u001b[38;5;28mprint\u001b[39m(diction2)\n\u001b[0;32m     26\u001b[0m diction3 \u001b[38;5;241m=\u001b[39m{\u001b[38;5;124m'\u001b[39m\u001b[38;5;124mspouse\u001b[39m\u001b[38;5;124m'\u001b[39m:\u001b[38;5;124m'\u001b[39m\u001b[38;5;124mEm\u001b[39m\u001b[38;5;124m'\u001b[39m,\u001b[38;5;124m'\u001b[39m\u001b[38;5;124mdad\u001b[39m\u001b[38;5;124m'\u001b[39m:\u001b[38;5;124m'\u001b[39m\u001b[38;5;124mTom\u001b[39m\u001b[38;5;124m'\u001b[39m}\n\u001b[1;32m---> 27\u001b[0m diction4 \u001b[38;5;241m=\u001b[39m \u001b[43mdiction2\u001b[49m\u001b[43m \u001b[49m\u001b[38;5;241;43m+\u001b[39;49m\u001b[43m \u001b[49m\u001b[43mdiction3\u001b[49m\n",
      "\u001b[1;31mTypeError\u001b[0m: unsupported operand type(s) for +: 'dict' and 'dict'"
     ]
    }
   ],
   "source": [
    "#dictionaries\n",
    "diction = {\"a\":25, \"b\":50, \"c\":20}\n",
    "type(diction)\n",
    "numb = (1,2,3)\n",
    "tub1 = [\"mom\", \"dad\", \"spouse\"]\n",
    "print(tub1)\n",
    "tub2 = ['Pat', 'Tom', 'Em']\n",
    "print(tub2)\n",
    "fam=zip(tub1, tub2)\n",
    "diction2 = dict(fam)\n",
    "print(diction2)\n",
    "print(diction2['mom'])\n",
    "print(diction2.keys())\n",
    "\"dad\" in diction2.keys()\n",
    "print(diction2.values())\n",
    "print(diction2.get('spouse'))\n",
    "print(sorted(diction2))\n",
    "print(sorted(diction2, reverse=True))\n",
    "print(sorted(diction2.values()))\n",
    "print(diction2.items())\n",
    "spouse = diction2.pop(\"spouse\")\n",
    "print(diction2)\n",
    "print(spouse)\n",
    "diction2.popitem()\n",
    "print(diction2)\n",
    "diction3 ={'spouse':'Em','dad':'Tom'}\n",
    "diction4 = diction2 + diction3"
   ]
  },
  {
   "cell_type": "code",
   "execution_count": 103,
   "id": "aa51fac0",
   "metadata": {},
   "outputs": [
    {
     "name": "stdout",
     "output_type": "stream",
     "text": [
      "{1, 2, 5, 6, 7}\n"
     ]
    },
    {
     "data": {
      "text/plain": [
       "set"
      ]
     },
     "execution_count": 103,
     "metadata": {},
     "output_type": "execute_result"
    }
   ],
   "source": [
    "#sets order doesn't matter\n",
    "numbers = {1,5,2,7,6}\n",
    "print(numbers)\n",
    "type(numbers)"
   ]
  },
  {
   "cell_type": "code",
   "execution_count": null,
   "id": "d1d7dc49",
   "metadata": {},
   "outputs": [],
   "source": []
  }
 ],
 "metadata": {
  "kernelspec": {
   "display_name": "Python 3 (ipykernel)",
   "language": "python",
   "name": "python3"
  },
  "language_info": {
   "codemirror_mode": {
    "name": "ipython",
    "version": 3
   },
   "file_extension": ".py",
   "mimetype": "text/x-python",
   "name": "python",
   "nbconvert_exporter": "python",
   "pygments_lexer": "ipython3",
   "version": "3.10.9"
  }
 },
 "nbformat": 4,
 "nbformat_minor": 5
}
