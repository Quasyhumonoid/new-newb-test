{
 "cells": [
  {
   "cell_type": "code",
   "execution_count": 3,
   "id": "e21900d6",
   "metadata": {},
   "outputs": [
    {
     "name": "stdout",
     "output_type": "stream",
     "text": [
      "Enter salary per hour: 27\n",
      "Enter expenses per month: 2040\n",
      "My total savings in a month is:  2280\n"
     ]
    }
   ],
   "source": [
    "salary = int(input(\"Enter salary per hour: \"))\n",
    "expenses = int(input(\"Enter expenses per month: \"))\n",
    "AvMonthSalary = salary * 160\n",
    "savings = AvMonthSalary - expenses\n",
    "print(\"My total savings in a month is: \", savings) "
   ]
  },
  {
   "cell_type": "code",
   "execution_count": null,
   "id": "018fc9a1",
   "metadata": {},
   "outputs": [],
   "source": []
  }
 ],
 "metadata": {
  "kernelspec": {
   "display_name": "Python 3 (ipykernel)",
   "language": "python",
   "name": "python3"
  },
  "language_info": {
   "codemirror_mode": {
    "name": "ipython",
    "version": 3
   },
   "file_extension": ".py",
   "mimetype": "text/x-python",
   "name": "python",
   "nbconvert_exporter": "python",
   "pygments_lexer": "ipython3",
   "version": "3.10.9"
  }
 },
 "nbformat": 4,
 "nbformat_minor": 5
}
