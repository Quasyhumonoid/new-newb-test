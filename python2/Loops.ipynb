{
 "cells": [
  {
   "cell_type": "code",
   "execution_count": 1,
   "id": "bd78be75",
   "metadata": {},
   "outputs": [
    {
     "name": "stdout",
     "output_type": "stream",
     "text": [
      "h\n",
      "e\n",
      "l\n",
      "l\n",
      "o\n"
     ]
    }
   ],
   "source": [
    "greet='hello'\n",
    "list1=list(greet)\n",
    "for letter in list1:\n",
    "    print(letter)"
   ]
  },
  {
   "cell_type": "code",
   "execution_count": 5,
   "id": "3f53d599",
   "metadata": {},
   "outputs": [
    {
     "name": "stdout",
     "output_type": "stream",
     "text": [
      "h\n",
      "e\n",
      "l\n",
      "l\n",
      "o\n",
      " \n",
      "w\n",
      "o\n",
      "r\n",
      "l\n",
      "d\n"
     ]
    }
   ],
   "source": [
    "for char in 'hello world':\n",
    "    print(char)"
   ]
  },
  {
   "cell_type": "code",
   "execution_count": 14,
   "id": "c748448a",
   "metadata": {},
   "outputs": [
    {
     "name": "stdout",
     "output_type": "stream",
     "text": [
      "germany\n",
      "Sweden\n",
      "luxembourg\n",
      "austria\n",
      "netherlands\n",
      "finland\n",
      "no more countries\n"
     ]
    }
   ],
   "source": [
    "for country in 'germany','Sweden','luxembourg','austria','netherlands','finland':\n",
    "    print(country)\n",
    "else :\n",
    "    print(\"no more countries\")"
   ]
  },
  {
   "cell_type": "code",
   "execution_count": null,
   "id": "f75f8e98",
   "metadata": {},
   "outputs": [],
   "source": [
    " "
   ]
  },
  {
   "cell_type": "code",
   "execution_count": 68,
   "id": "57aa4934",
   "metadata": {},
   "outputs": [
    {
     "name": "stdout",
     "output_type": "stream",
     "text": [
      "Make 1, nissan, includes models: ['sentra', 'optima']\n",
      "Make 2, toyota, includes models: prius\n",
      "Make 3, volkswagen, includes models: ['jetta', 'beetle', 'golf']\n",
      "Make 4, ford, includes models: ['focus', 'fiesta']\n",
      "Make 5, hyundai, includes models: elantra\n",
      "Make 6, toyota, includes models: corolla\n",
      "Make 7, mini, includes models: ['cooper', 'clubman']\n",
      "Make 8, honda, includes models: ['civic', 'accord']\n"
     ]
    }
   ],
   "source": [
    "cars=(('nissan',['sentra', 'optima']), ('toyota','prius'), ('volkswagen',['jetta', 'beetle', 'golf']), ('ford',['focus', 'fiesta']), ('hyundai','elantra'), ('toyota','corolla'), ('mini',['cooper', 'clubman']), ('honda',['civic', 'accord']))\n",
    "for i, (make, models) in enumerate(cars):\n",
    "    print(\"Make \"+ str(i+1) +\", \"+ make +\", includes models: \"+ str(models))"
   ]
  },
  {
   "cell_type": "code",
   "execution_count": 37,
   "id": "af35fe8c",
   "metadata": {},
   "outputs": [
    {
     "name": "stdout",
     "output_type": "stream",
     "text": [
      "(0, 1, 2, 3, 4)\n",
      "(5, 6, 7)\n",
      "6\n",
      "8\n",
      "10\n",
      "12\n",
      "14\n",
      "8\n",
      "6\n",
      "4\n",
      "2\n",
      "0\n"
     ]
    }
   ],
   "source": [
    "values=tuple(range(5))\n",
    "print(values)\n",
    "values=tuple(range(5,8))\n",
    "print(values)\n",
    "for i in range (6,15,2):\n",
    "    print (i)\n",
    "ran = range(0,10,2)\n",
    "for i in reversed(ran):\n",
    "    print (i)"
   ]
  },
  {
   "cell_type": "code",
   "execution_count": 12,
   "id": "eea4cba0",
   "metadata": {},
   "outputs": [
    {
     "name": "stdout",
     "output_type": "stream",
     "text": [
      "Type a list of numbers seperated by commas.1,2,3\n",
      "['1', '2', '3']\n",
      "the cubes are [1, 8, 27]\n"
     ]
    }
   ],
   "source": [
    "#Loops practice 1\n",
    "string1=input(\"Type a list of numbers seperated by commas.\")\n",
    "list1=string1.split(',')\n",
    "print (list1)\n",
    "list2=list()\n",
    "for num in list1:\n",
    "    list2.append(int(num)**3)\n",
    "print(\"the cubes are\", list2)"
   ]
  },
  {
   "cell_type": "code",
   "execution_count": 2,
   "id": "eadcf141",
   "metadata": {},
   "outputs": [
    {
     "name": "stdout",
     "output_type": "stream",
     "text": [
      "['elantra', 'sonata', 'prius', 'corolla']\n"
     ]
    }
   ],
   "source": [
    "#Loops practice 2\n",
    "list1=[['elantra', 'sonata',],['prius', 'corolla']]\n",
    "list2=list()\n",
    "for [one, two] in list1:\n",
    "    list2.append(one)\n",
    "    list2.append(two)\n",
    "print(list2)"
   ]
  },
  {
   "cell_type": "code",
   "execution_count": 6,
   "id": "8430c096",
   "metadata": {
    "scrolled": true
   },
   "outputs": [
    {
     "name": "stdout",
     "output_type": "stream",
     "text": [
      "(2000, 2004, 2008, 2012, 2016, 2020, 2024, 2028, 2032, 2036, 2040, 2044, 2048, 2052, 2056, 2060, 2064, 2068, 2072, 2076, 2080, 2084, 2088, 2092, 2096)\n"
     ]
    }
   ],
   "source": [
    "#loops practice 3 print all leap years in 21st century\n",
    "list1=tuple(range(2000, 2100, 4))\n",
    "print(list1)"
   ]
  },
  {
   "cell_type": "code",
   "execution_count": 23,
   "id": "e57ad346",
   "metadata": {},
   "outputs": [
    {
     "name": "stdout",
     "output_type": "stream",
     "text": [
      "t\n",
      "h\n",
      "o\n"
     ]
    }
   ],
   "source": [
    "#break statements\n",
    "for letter in \"python\":\n",
    "    if letter == \"y\":\n",
    "        continue\n",
    "    if letter != \"p\":\n",
    "        print(letter)\n",
    "    else:\n",
    "        pass\n",
    "    if letter == \"o\":\n",
    "        break\n",
    "    \n",
    "else:\n",
    "    print(\"the letter o isn't in python\")"
   ]
  },
  {
   "cell_type": "code",
   "execution_count": 30,
   "id": "03df2256",
   "metadata": {},
   "outputs": [
    {
     "name": "stdout",
     "output_type": "stream",
     "text": [
      "['M', 'r', ' ', 'R', 'o', 'b', 'o', 't', ' ', 'S', '0', '1', 'E', '0', '6', ' ', 'T', 'h', 'i', 's', ' ', 'I', 's', 'n', \"'\", 't', ' ', 'G', 'o', 'o', 'd']\n",
      "['d', 'o', 'o', 'G', '.', 't', \"'\", 'n', 's', 'I', '.', 's', 'i', 'h', 'T', '.', '6', '0', 'E', '1', '0', 'S', '.', 't', 'o', 'b', 'o', 'R', '.', 'r', 'M']\n"
     ]
    }
   ],
   "source": [
    "#Comprehensions\n",
    "title = \"Mr.Robot.S01E06.This.Isn't.Good\"\n",
    "title2 = [letter if letter != \".\" else \" \" for letter in title]\n",
    "print(title2)\n",
    "backwards = [title[i-1] for i in range(len(title2),0,-1)]\n",
    "print(backwards)"
   ]
  },
  {
   "cell_type": "code",
   "execution_count": 32,
   "id": "8d296821",
   "metadata": {},
   "outputs": [
    {
     "name": "stdout",
     "output_type": "stream",
     "text": [
      "1\n",
      "2\n",
      "234\n",
      "6\n",
      "12345\n",
      "4\n"
     ]
    }
   ],
   "source": [
    "list1=[1,2,234,6,12345,4]\n",
    "for i in list1:\n",
    "    if i == 315:\n",
    "        break\n",
    "    if i % 7 == 0:\n",
    "        continue\n",
    "    else:\n",
    "        print(i)"
   ]
  },
  {
   "cell_type": "code",
   "execution_count": 35,
   "id": "5d6bce9e",
   "metadata": {},
   "outputs": [
    {
     "name": "stdout",
     "output_type": "stream",
     "text": [
      "1\n",
      "2\n",
      "3\n",
      "4\n",
      "5\n",
      "6\n",
      "7\n",
      "8\n",
      "9\n",
      "10\n"
     ]
    }
   ],
   "source": [
    "num1=0\n",
    "while num1 < 10:\n",
    "        num1+=1\n",
    "        print(num1)"
   ]
  },
  {
   "cell_type": "code",
   "execution_count": 37,
   "id": "8af54474",
   "metadata": {},
   "outputs": [
    {
     "name": "stdout",
     "output_type": "stream",
     "text": [
      "password: password123\n",
      "correct password\n"
     ]
    }
   ],
   "source": [
    "passw=\"\"\n",
    "while passw != \"password123\":\n",
    "    passw=input(\"password: \")\n",
    "    \n",
    "print('correct password')"
   ]
  },
  {
   "cell_type": "code",
   "execution_count": 39,
   "id": "067f1965",
   "metadata": {},
   "outputs": [
    {
     "name": "stdout",
     "output_type": "stream",
     "text": [
      "enter an integer: 1234234\n",
      "number of digits:  7\n"
     ]
    }
   ],
   "source": [
    "#digits in a number\n",
    "value = int(input(\"enter an integer: \"))\n",
    "length = 0\n",
    "while value > 0:\n",
    "    value //= 10\n",
    "    length += 1\n",
    "print(\"number of digits: \", length)"
   ]
  },
  {
   "cell_type": "code",
   "execution_count": 40,
   "id": "426e6b44",
   "metadata": {},
   "outputs": [
    {
     "name": "stdout",
     "output_type": "stream",
     "text": [
      "1\n",
      "2\n",
      "3\n",
      "4\n",
      "5\n",
      "6\n",
      "7\n",
      "8\n"
     ]
    }
   ],
   "source": [
    "x,y=0,8\n",
    "while(x<y): x+=1; print(x)"
   ]
  },
  {
   "cell_type": "code",
   "execution_count": 41,
   "id": "a13de0d0",
   "metadata": {},
   "outputs": [
    {
     "name": "stdout",
     "output_type": "stream",
     "text": [
      "20\n",
      "30\n",
      "40\n",
      "50\n",
      "60\n"
     ]
    }
   ],
   "source": [
    "list4=[20,30,40,50,60]\n",
    "count=0\n",
    "while count < len(list4):\n",
    "    print(list4[count])\n",
    "    count += 1\n",
    "    "
   ]
  },
  {
   "cell_type": "code",
   "execution_count": 49,
   "id": "244ddc75",
   "metadata": {},
   "outputs": [
    {
     "name": "stdout",
     "output_type": "stream",
     "text": [
      "   C     F\n",
      "  -20    -4\n",
      "  -15     5\n",
      "  -10    14\n",
      "   -5    23\n",
      "    0    32\n",
      "   15    59\n",
      "   20    68\n",
      "   25    77\n",
      "   30    86\n",
      "   35    95\n",
      "   40   104\n"
     ]
    }
   ],
   "source": [
    "cels=[-20,-15,-10,-5,0,15,20,25,30,35,40]\n",
    "index=0\n",
    "print('   C     F')\n",
    "while index < len(cels):\n",
    "    C=cels[index]\n",
    "    F=(9/5)*C+32\n",
    "    print('%5d %5.0f' %(C,F))\n",
    "    index += 1"
   ]
  },
  {
   "cell_type": "code",
   "execution_count": null,
   "id": "978cb595",
   "metadata": {},
   "outputs": [],
   "source": []
  }
 ],
 "metadata": {
  "kernelspec": {
   "display_name": "Python 3 (ipykernel)",
   "language": "python",
   "name": "python3"
  },
  "language_info": {
   "codemirror_mode": {
    "name": "ipython",
    "version": 3
   },
   "file_extension": ".py",
   "mimetype": "text/x-python",
   "name": "python",
   "nbconvert_exporter": "python",
   "pygments_lexer": "ipython3",
   "version": "3.10.9"
  }
 },
 "nbformat": 4,
 "nbformat_minor": 5
}
