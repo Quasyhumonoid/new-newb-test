{
 "cells": [
  {
   "cell_type": "code",
   "execution_count": null,
   "id": "c91e54e8",
   "metadata": {},
   "outputs": [],
   "source": [
    "help(\"modules\")"
   ]
  },
  {
   "cell_type": "code",
   "execution_count": null,
   "id": "4f9b6594",
   "metadata": {},
   "outputs": [],
   "source": [
    "import math\n",
    "print(math.pi)\n",
    "print(math.e)\n",
    "print(math.ceil(8.1))\n",
    "print(math.pow(2,4))\n",
    "print(math.sqrt(24))\n",
    "print(math.factorial(6))"
   ]
  },
  {
   "cell_type": "code",
   "execution_count": null,
   "id": "26d2787e",
   "metadata": {},
   "outputs": [],
   "source": [
    "import os\n",
    "print(os.getcwd(),\"\\n\")\n",
    "print(os.environ,\"\\n\")\n",
    "print(os.environ['USERNAME'],\"\\n\")\n",
    "print(os.listdir(),\"\\n\")\n",
    "os.mkdir(\"./mytempdir\")\n",
    "print(os.listdir(),\"\\n\")\n",
    "os.rename(\"./mytempdir\",\"./mynewdir\")\n",
    "print(os.listdir(),\"\\n\")\n",
    "os.rmdir(\"./mynewdir\")\n",
    "print(os.listdir(),\"\\n\")"
   ]
  },
  {
   "cell_type": "code",
   "execution_count": null,
   "id": "bcd164a6",
   "metadata": {},
   "outputs": [],
   "source": [
    "!python\n",
    "!import os\n",
    "!direct=os.getcwd()\n",
    "print(direct)"
   ]
  },
  {
   "cell_type": "code",
   "execution_count": null,
   "id": "6355b724",
   "metadata": {},
   "outputs": [],
   "source": []
  }
 ],
 "metadata": {
  "kernelspec": {
   "display_name": "Python 3 (ipykernel)",
   "language": "python",
   "name": "python3"
  },
  "language_info": {
   "codemirror_mode": {
    "name": "ipython",
    "version": 3
   },
   "file_extension": ".py",
   "mimetype": "text/x-python",
   "name": "python",
   "nbconvert_exporter": "python",
   "pygments_lexer": "ipython3",
   "version": "3.11.4"
  }
 },
 "nbformat": 4,
 "nbformat_minor": 5
}
