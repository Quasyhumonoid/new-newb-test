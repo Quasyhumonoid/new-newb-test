{
 "cells": [
  {
   "cell_type": "code",
   "execution_count": 1,
   "id": "c91e54e8",
   "metadata": {},
   "outputs": [
    {
     "name": "stdout",
     "output_type": "stream",
     "text": [
      "\n",
      "Please wait a moment while I gather a list of all available modules...\n",
      "\n"
     ]
    },
    {
     "name": "stderr",
     "output_type": "stream",
     "text": [
      "D:\\PortableApps\\JupyterLabPortable\\apps\\lib\\site-packages\\IPython\\kernel\\__init__.py:12: ShimWarning: The `IPython.kernel` package has been deprecated since IPython 4.0.You should import from ipykernel or jupyter_client instead.\n",
      "  warn(\"The `IPython.kernel` package has been deprecated since IPython 4.0.\"\n",
      "D:\\PortableApps\\JupyterLabPortable\\apps\\lib\\pkgutil.py:93: MatplotlibDeprecationWarning: \n",
      "The matplotlib.compat module was deprecated in Matplotlib 3.3 and will be removed two minor releases later.\n",
      "  __import__(info.name)\n",
      "D:\\PortableApps\\JupyterLabPortable\\apps\\lib\\pkgutil.py:108: VisibleDeprecationWarning: zmq.eventloop.minitornado is deprecated in pyzmq 14.0 and will be removed.\n",
      "    Install tornado itself to use zmq with the tornado IOLoop.\n",
      "    \n",
      "  yield from walk_packages(path, info.name+'.', onerror)\n"
     ]
    },
    {
     "name": "stdout",
     "output_type": "stream",
     "text": [
      "Cython              certifi             mmsystem            struct\n",
      "IPython             cffi                modulefinder        subprocess\n",
      "PIL                 cgi                 mpmath              sunau\n",
      "__future__          cgitb               msilib              symbol\n",
      "_abc                charset_normalizer  msvcrt              sympy\n",
      "_aix_support        chunk               multiprocessing     sympyprinting\n",
      "_ast                cmath               nbclassic           symtable\n",
      "_asyncio            cmd                 nbclient            sys\n",
      "_bisect             code                nbconvert           sysconfig\n",
      "_blake2             codecs              nbformat            tabnanny\n",
      "_bootlocale         codeop              nest_asyncio        tarfile\n",
      "_bootsubprocess     collections         netbios             telnetlib\n",
      "_bz2                colorama            netrc               tempfile\n",
      "_cffi_backend       colorsys            nntplib             terminado\n",
      "_codecs             commctrl            nose                testpath\n",
      "_codecs_cn          compileall          notebook            tests\n",
      "_codecs_hk          concurrent          nt                  textwrap\n",
      "_codecs_iso2022     configparser        ntpath              this\n",
      "_codecs_jp          contextlib          ntsecuritycon       threading\n",
      "_codecs_kr          contextvars         nturl2path          time\n",
      "_codecs_tw          copy                numbers             timeit\n",
      "_collections        copyreg             numpy               timer\n",
      "_collections_abc    crypt               odbc                tkinter\n",
      "_compat_pickle      csv                 opcode              token\n",
      "_compression        ctypes              operator            tokenize\n",
      "_contextvars        curses              optparse            tornado\n",
      "_csv                cycler              os                  trace\n",
      "_ctypes             cython              packaging           traceback\n",
      "_datetime           cythonmagic         pandas              tracemalloc\n",
      "_decimal            dataclasses         pandocfilters       traitlets\n",
      "_distutils_hack     datetime            parser              tty\n",
      "_elementtree        dateutil            parso               turtle\n",
      "_functools          dbi                 pathlib             turtledemo\n",
      "_hashlib            dbm                 pdb                 types\n",
      "_heapq              dde                 perfmon             typing\n",
      "_imp                debugpy             pickle              unicodedata\n",
      "_io                 decimal             pickleshare         unittest\n",
      "_json               decorator           pickletools         urllib\n",
      "_locale             defusedxml          pip                 urllib3\n",
      "_lsprof             difflib             pipes               uu\n",
      "_lzma               dis                 pkg_resources       uuid\n",
      "_markupbase         distutils           pkgutil             venv\n",
      "_md5                doctest             platform            warnings\n",
      "_msi                email               platformdirs        wave\n",
      "_multibytecodec     encodings           plistlib            wcwidth\n",
      "_multiprocessing    ensurepip           poplib              weakref\n",
      "_opcode             entrypoints         posixpath           webbrowser\n",
      "_operator           enum                pprint              webencodings\n",
      "_osx_support        errno               profile             websocket\n",
      "_overlapped         faulthandler        prometheus_client   widgetsnbextension\n",
      "_peg_parser         filecmp             prompt_toolkit      win2kras\n",
      "_pickle             fileinput           pstats              win32api\n",
      "_py_abc             fnmatch             psutil              win32clipboard\n",
      "_pydecimal          formatter           pty                 win32com\n",
      "_pyio               fractions           pvectorc            win32con\n",
      "_pyrsistent_version ftplib              py_compile          win32console\n",
      "_queue              functools           pyclbr              win32cred\n",
      "_random             gc                  pycparser           win32crypt\n",
      "_sha1               genericpath         pydoc               win32cryptcon\n",
      "_sha256             getopt              pydoc_data          win32event\n",
      "_sha3               getpass             pyexpat             win32evtlog\n",
      "_sha512             gettext             pygments            win32evtlogutil\n",
      "_signal             glob                pylab               win32file\n",
      "_sitebuiltins       graphlib            pyparsing           win32gui\n",
      "_socket             gzip                pyrsistent          win32gui_struct\n",
      "_sqlite3            hashlib             pythoncom           win32help\n",
      "_sre                heapq               pytz                win32inet\n",
      "_ssl                hmac                pywin               win32inetcon\n",
      "_stat               html                pywin32_bootstrap   win32job\n",
      "_statistics         http                pywin32_testutil    win32lz\n",
      "_string             idlelib             pywintypes          win32net\n",
      "_strptime           idna                pyximport           win32netcon\n",
      "_struct             imaplib             queue               win32pdh\n",
      "_symtable           imghdr              quopri              win32pdhquery\n",
      "_thread             imp                 random              win32pdhutil\n",
      "_threading_local    importlib           rasutil             win32pipe\n",
      "_tkinter            inspect             re                  win32print\n",
      "_tracemalloc        io                  regcheck            win32process\n",
      "_uuid               ipaddress           regutil             win32profile\n",
      "_warnings           ipykernel           reprlib             win32ras\n",
      "_weakref            ipykernel_launcher  requests            win32rcparser\n",
      "_weakrefset         ipython_genutils    requests_unixsocket win32security\n",
      "_win32sysloader     ipywidgets          rlcompleter         win32service\n",
      "_winapi             isapi               rmagic              win32serviceutil\n",
      "_winxptheme         isympy              runpy               win32timezone\n",
      "_xxsubinterpreters  itertools           sched               win32trace\n",
      "_zoneinfo           jedi                scipy               win32traceutil\n",
      "abc                 jinja2              secrets             win32transaction\n",
      "adodbapi            json                select              win32ts\n",
      "afxres              json5               selectors           win32ui\n",
      "aifc                jsonschema          send2trash          win32uiole\n",
      "antigravity         jupyter             servicemanager      win32verstamp\n",
      "anyio               jupyter_client      setuptools          win32wnet\n",
      "argon2              jupyter_core        shelve              winerror\n",
      "argparse            jupyter_server      shlex               winioctlcon\n",
      "array               jupyterlab          shutil              winnt\n",
      "ast                 jupyterlab_pygments signal              winperf\n",
      "async_generator     jupyterlab_server   site                winpty\n",
      "asynchat            jupyterlab_widgets  six                 winreg\n",
      "asyncio             keyword             smtpd               winsound\n",
      "asyncore            kiwisolver          smtplib             winxpgui\n",
      "atexit              lib2to3             sndhdr              winxptheme\n",
      "attr                linecache           sniffio             wsgiref\n",
      "audioop             locale              socket              xdrlib\n",
      "autoreload          logging             socketserver        xml\n",
      "babel               lzma                sqlite3             xmlrpc\n",
      "backcall            mailbox             sre_compile         xxsubtype\n",
      "base64              mailcap             sre_constants       zipapp\n",
      "bdb                 markupsafe          sre_parse           zipfile\n",
      "binascii            marshal             ssl                 zipimport\n",
      "binhex              math                sspi                zlib\n",
      "bisect              matplotlib          sspicon             zmq\n",
      "bleach              matplotlib_inline   stat                zoneinfo\n",
      "builtins            mimetypes           statistics          ~upyter_core\n",
      "bz2                 mistune             storemagic          \n",
      "cProfile            mmap                string              \n",
      "calendar            mmapfile            stringprep          \n",
      "\n",
      "Enter any module name to get more help.  Or, type \"modules spam\" to search\n",
      "for modules whose name or summary contain the string \"spam\".\n",
      "\n"
     ]
    }
   ],
   "source": [
    "help(\"modules\")"
   ]
  },
  {
   "cell_type": "code",
   "execution_count": 2,
   "id": "4f9b6594",
   "metadata": {},
   "outputs": [
    {
     "name": "stdout",
     "output_type": "stream",
     "text": [
      "3.141592653589793\n",
      "2.718281828459045\n",
      "9\n",
      "16.0\n",
      "4.898979485566356\n",
      "720\n"
     ]
    }
   ],
   "source": [
    "import math\n",
    "print(math.pi)\n",
    "print(math.e)\n",
    "print(math.ceil(8.1))\n",
    "print(math.pow(2,4))\n",
    "print(math.sqrt(24))\n",
    "print(math.factorial(6))"
   ]
  },
  {
   "cell_type": "code",
   "execution_count": 3,
   "id": "26d2787e",
   "metadata": {},
   "outputs": [
    {
     "name": "stdout",
     "output_type": "stream",
     "text": [
      "D:\\Documents\\new-newb-test\\python2 \n",
      "\n",
      "environ({'ALLUSERSPROFILE': 'C:\\\\ProgramData', 'APPDATA': 'C:\\\\Users\\\\jpkir\\\\AppData\\\\Roaming', 'COMMONPROGRAMFILES': 'C:\\\\Program Files\\\\Common Files', 'COMMONPROGRAMFILES(X86)': 'C:\\\\Program Files (x86)\\\\Common Files', 'COMMONPROGRAMW6432': 'C:\\\\Program Files\\\\Common Files', 'COMPUTERNAME': 'IVH_LAPTOP', 'COMSPEC': 'C:\\\\Windows\\\\system32\\\\cmd.exe', 'DRIVERDATA': 'C:\\\\Windows\\\\System32\\\\Drivers\\\\DriverData', 'HOMEDRIVE': 'C:', 'HOMEPATH': '\\\\Users\\\\jpkir', 'LOCALAPPDATA': 'C:\\\\Users\\\\jpkir\\\\AppData\\\\Local', 'LOGONSERVER': '\\\\\\\\IVH_LAPTOP', 'NUMBER_OF_PROCESSORS': '8', 'ONEDRIVE': 'C:\\\\Users\\\\jpkir\\\\OneDrive', 'ONEDRIVECONSUMER': 'C:\\\\Users\\\\jpkir\\\\OneDrive', 'OS': 'Windows_NT', 'PATH': 'C:\\\\Windows\\\\system32;C:\\\\Windows;C:\\\\Windows\\\\System32\\\\Wbem;C:\\\\Windows\\\\System32\\\\WindowsPowerShell\\\\v1.0\\\\;C:\\\\Windows\\\\System32\\\\OpenSSH\\\\;;D:\\\\PortableApps\\\\RapidEnvironmentEditorPortable\\\\;D:\\\\PortableApps\\\\GToolsPortable\\\\;D:\\\\PortableApps\\\\PolicyAnalyzerPortable\\\\;D:\\\\PortableApps\\\\LGPOPortable\\\\;D:\\\\PortableApps\\\\SetObjectSecurityPortable\\\\;D:\\\\PortableApps\\\\PortableGit\\\\cmd\\\\;D:\\\\PortableApps\\\\gVimPortable\\\\;D:\\\\PortableApps\\\\NSISPortable\\\\;D:\\\\PortableApps\\\\GIMPPortable\\\\;D:\\\\PortableApps\\\\WinSCPPortable\\\\;D:\\\\PortableApps\\\\WiresharkPortable\\\\;D:\\\\PortableApps\\\\VLCPortable\\\\;D:\\\\PortableApps\\\\AutorunsPortable\\\\;D:\\\\PortableApps\\\\PsToolsPortable\\\\;D:\\\\PortableApps\\\\JupyterLabPortable\\\\apps\\\\Scripts\\\\;D:\\\\PortableApps\\\\BitwardenPortable\\\\;D:\\\\PortableApps\\\\JupyterLabPortable\\\\apps\\\\', 'PATHEXT': '.COM;.EXE;.BAT;.CMD;.VBS;.VBE;.JS;.JSE;.WSF;.WSH;.MSC', 'PROCESSOR_ARCHITECTURE': 'AMD64', 'PROCESSOR_IDENTIFIER': 'Intel64 Family 6 Model 142 Stepping 12, GenuineIntel', 'PROCESSOR_LEVEL': '6', 'PROCESSOR_REVISION': '8e0c', 'PROGRAMDATA': 'C:\\\\ProgramData', 'PROGRAMFILES': 'C:\\\\Program Files', 'PROGRAMFILES(X86)': 'C:\\\\Program Files (x86)', 'PROGRAMW6432': 'C:\\\\Program Files', 'PROMPT': '$P$G', 'PSMODULEPATH': 'C:\\\\Program Files\\\\WindowsPowerShell\\\\Modules;C:\\\\Windows\\\\system32\\\\WindowsPowerShell\\\\v1.0\\\\Modules', 'PUBLIC': 'C:\\\\Users\\\\Public', 'SESSIONNAME': 'Console', 'SYSTEMDRIVE': 'C:', 'SYSTEMROOT': 'C:\\\\Windows', 'TEMP': 'C:\\\\Users\\\\jpkir\\\\AppData\\\\Local\\\\Temp', 'TMP': 'C:\\\\Users\\\\jpkir\\\\AppData\\\\Local\\\\Temp', 'USERDOMAIN': 'IVH_LAPTOP', 'USERDOMAIN_ROAMINGPROFILE': 'IVH_LAPTOP', 'USERNAME': 'jpkir', 'USERPROFILE': 'C:\\\\Users\\\\jpkir', 'WINDIR': 'C:\\\\Windows', 'WSLENV': 'WT_SESSION:WT_PROFILE_ID:', 'WT_PROFILE_ID': '{0caa0dad-35be-5f56-a8ff-afceeeaa6101}', 'WT_SESSION': '51410f13-4133-4582-bc3e-8fee4119139e', 'ZES_ENABLE_SYSMAN': '1', 'JPY_INTERRUPT_EVENT': '2752', 'IPY_INTERRUPT_EVENT': '2752', 'JPY_PARENT_PID': '2724', 'TERM': 'xterm-color', 'CLICOLOR': '1', 'PAGER': 'cat', 'GIT_PAGER': 'cat', 'MPLBACKEND': 'module://matplotlib_inline.backend_inline', 'PYDEVD_USE_FRAME_EVAL': 'NO'}) \n",
      "\n",
      "jpkir \n",
      "\n",
      "['.ipynb_checkpoints', 'BuiltInFunctions.ipynb', 'Calculations.ipynb', 'Conditions.ipynb', 'Copies.ipynb', 'ExampleSavingMoney.ipynb', 'Functions.ipynb', 'ListsStringsTuplesDictionariesSets.ipynb', 'Loops.ipynb', 'Modules.ipynb', 'PythonTerminalCommands.ipynb', 'Variables.ipynb'] \n",
      "\n",
      "['.ipynb_checkpoints', 'BuiltInFunctions.ipynb', 'Calculations.ipynb', 'Conditions.ipynb', 'Copies.ipynb', 'ExampleSavingMoney.ipynb', 'Functions.ipynb', 'ListsStringsTuplesDictionariesSets.ipynb', 'Loops.ipynb', 'Modules.ipynb', 'PythonTerminalCommands.ipynb', 'Variables.ipynb', 'mytempdir'] \n",
      "\n",
      "['.ipynb_checkpoints', 'BuiltInFunctions.ipynb', 'Calculations.ipynb', 'Conditions.ipynb', 'Copies.ipynb', 'ExampleSavingMoney.ipynb', 'Functions.ipynb', 'ListsStringsTuplesDictionariesSets.ipynb', 'Loops.ipynb', 'Modules.ipynb', 'PythonTerminalCommands.ipynb', 'Variables.ipynb', 'mynewdir'] \n",
      "\n",
      "['.ipynb_checkpoints', 'BuiltInFunctions.ipynb', 'Calculations.ipynb', 'Conditions.ipynb', 'Copies.ipynb', 'ExampleSavingMoney.ipynb', 'Functions.ipynb', 'ListsStringsTuplesDictionariesSets.ipynb', 'Loops.ipynb', 'Modules.ipynb', 'PythonTerminalCommands.ipynb', 'Variables.ipynb'] \n",
      "\n"
     ]
    }
   ],
   "source": [
    "import os\n",
    "print(os.getcwd(),\"\\n\")\n",
    "print(os.environ,\"\\n\")\n",
    "print(os.environ['USERNAME'],\"\\n\")\n",
    "print(os.listdir(),\"\\n\")\n",
    "os.mkdir(\"./mytempdir\")\n",
    "print(os.listdir(),\"\\n\")\n",
    "os.rename(\"./mytempdir\",\"./mynewdir\")\n",
    "print(os.listdir(),\"\\n\")\n",
    "os.rmdir(\"./mynewdir\")\n",
    "print(os.listdir(),\"\\n\")"
   ]
  },
  {
   "cell_type": "code",
   "execution_count": 13,
   "id": "bcd164a6",
   "metadata": {},
   "outputs": [
    {
     "name": "stdout",
     "output_type": "stream",
     "text": [
      "PATH: C:\\Windows\\system32;C:\\Windows;C:\\Windows\\System32\\Wbem;C:\\Windows\\System32\\WindowsPowerShell\\v1.0\\;C:\\Windows\\System32\\OpenSSH\\;;D:\\PortableApps\\RapidEnvironmentEditorPortable\\;D:\\PortableApps\\GToolsPortable\\;D:\\PortableApps\\PolicyAnalyzerPortable\\;D:\\PortableApps\\LGPOPortable\\;D:\\PortableApps\\SetObjectSecurityPortable\\;D:\\PortableApps\\PortableGit\\cmd\\;D:\\PortableApps\\gVimPortable\\;D:\\PortableApps\\NSISPortable\\;D:\\PortableApps\\GIMPPortable\\;D:\\PortableApps\\WinSCPPortable\\;D:\\PortableApps\\WiresharkPortable\\;D:\\PortableApps\\VLCPortable\\;D:\\PortableApps\\AutorunsPortable\\;D:\\PortableApps\\PsToolsPortable\\;D:\\PortableApps\\JupyterLabPortable\\apps\\Scripts\\;D:\\PortableApps\\BitwardenPortable\\;D:\\PortableApps\\JupyterLabPortable\\apps\\\n",
      "\n",
      "CWD: D:\\Documents\\new-newb-test\\python2\n",
      "cwd is directory: True\n",
      "cwd is file: False\n",
      "cwd is directory: True\n",
      "cwd exists: True\n"
     ]
    }
   ],
   "source": [
    "import os\n",
    "path = os.environ[\"PATH\"]\n",
    "print(\"PATH:\", path)\n",
    "cwd = os.getcwd()\n",
    "print(\"\\nCWD:\", cwd)\n",
    "print(\"cwd is directory:\", os.path.isdir(cwd))\n",
    "print(\"cwd is file:\", os.path.isfile(cwd))\n",
    "from os import path\n",
    "print(\"cwd is directory:\", path.isdir(cwd))\n",
    "print(\"cwd exists:\", path.exists(cwd))"
   ]
  },
  {
   "cell_type": "code",
   "execution_count": 17,
   "id": "6355b724",
   "metadata": {},
   "outputs": [
    {
     "name": "stdout",
     "output_type": "stream",
     "text": [
      "random number: 0.4953719493527555\n",
      "random integer 0-10: 1\n",
      "random number: 0.5824088553633455\n",
      "random make Toyota\n"
     ]
    }
   ],
   "source": [
    "import random\n",
    "print(\"random number:\", random.random())\n",
    "print(\"random integer 0-10:\", random.randint(0,10))\n",
    "print(\"random number:\", random.random())\n",
    "cars=[\"Hyundai\", \"Kia\",\"Toyota\", \"Fiat\", \"Honda\", \"Ford\", \"Volkswagen\"]\n",
    "print(\"random make:\", random.choice(cars))"
   ]
  },
  {
   "cell_type": "code",
   "execution_count": 20,
   "id": "5fd680f1",
   "metadata": {},
   "outputs": [
    {
     "name": "stdout",
     "output_type": "stream",
     "text": [
      "Today's date is: 2023-12-13\n",
      "Right now is: 2023-12-13 15:27:17.907626\n"
     ]
    }
   ],
   "source": [
    "import datetime\n",
    "print(\"Today's date is:\", datetime.date.today())\n",
    "print(\"Right now is:\", datetime.datetime.now())"
   ]
  },
  {
   "cell_type": "code",
   "execution_count": null,
   "id": "9b647ac4",
   "metadata": {},
   "outputs": [],
   "source": []
  }
 ],
 "metadata": {
  "kernelspec": {
   "display_name": "Python 3 (ipykernel)",
   "language": "python",
   "name": "python3"
  },
  "language_info": {
   "codemirror_mode": {
    "name": "ipython",
    "version": 3
   },
   "file_extension": ".py",
   "mimetype": "text/x-python",
   "name": "python",
   "nbconvert_exporter": "python",
   "pygments_lexer": "ipython3",
   "version": "3.9.6"
  }
 },
 "nbformat": 4,
 "nbformat_minor": 5
}
