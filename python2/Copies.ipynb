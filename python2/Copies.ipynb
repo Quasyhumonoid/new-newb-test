{
 "cells": [
  {
   "cell_type": "code",
   "execution_count": 30,
   "id": "9d2f1ed9",
   "metadata": {},
   "outputs": [
    {
     "name": "stdout",
     "output_type": "stream",
     "text": [
      "1: copy.copy() makes a copy of the original string so editing the new string doesn't affect the original. \n",
      "   So after reassigning str2 with the value \"smith,\" the value of str1 remains Python. \n",
      "   This result would have been the same if one variable contents had been assigned to the other using \"=\"\n",
      "2: copy.deepcopy() works the same way on strings as copy.copy().\n",
      "   After changing the value that was copied (smithy), the original stays the same (Python)\n"
     ]
    }
   ],
   "source": [
    "#Strings\n",
    "str1 = \"Python\"\n",
    "#strings are immutable so you can't change individual characters\n",
    "import copy\n",
    "str2 = copy.copy(str1)\n",
    "str2 = \"smith\"\n",
    "print(\"1:\", \"copy.copy() makes a copy of the original string so editing the new string doesn't affect the original. \\n   So after reassigning str2 with the value \\\"\" + str2 + \",\\\" the value of str1 remains \" + str1 + \". \\n   This result would have been the same if one variable contents had been assigned to the other using \\\"=\\\"\")\n",
    "str3 = copy.deepcopy(str1)\n",
    "str3 = \"smithy\"\n",
    "print(\"2:\", \"copy.deepcopy() works the same way on strings as copy.copy().\\n   After changing the value that was copied (\" + str3 + \"), the original stays the same (\" + str1 + \")\")"
   ]
  },
  {
   "cell_type": "code",
   "execution_count": 24,
   "id": "53325d9a",
   "metadata": {
    "scrolled": false
   },
   "outputs": [
    {
     "name": "stdout",
     "output_type": "stream",
     "text": [
      "1 names1: ['sara', 'david', 'Warner', 'sandy']\n",
      "2 names1: ['sara', 'jack', 'jill', 'sandy', 'jackie'] \n",
      "   Using an \"=\" to assign the names2 list to names1, assigns the whole list variable, not its content. \n",
      "   So changing or adding a variable in either names1 or names2 changes it in the other list\n",
      "  names2: ['sara', 'jack', 'jill', 'sandy', 'jackie'] \n",
      "   This is an example of a shallow copy, which is more like a shortcut.\n",
      "3 names1: ['august', 'jack', 'jill', 'sandy', 'jackie', [48]]\n",
      "4 names3: ['sara', 'jack', 'jill', 'jermy', 'jackie', [48]] \n",
      "   Using \"copy.copy\" to make a list: \"names3\" that is a deep copy of list: \"names1,\" assigns each of the list\n",
      "   variables to the new list, however this is only a shallow copy of those individual variables so sub-lists are\n",
      "   referencing the same information as one another\n",
      "5 names1: ['august', 'jack', 'jill', 'sandy', 'jackie', [12]]\n",
      "6 names4: ['august', 'jack', 'jill', 'sandy', 'jackie', [48]] \n",
      "   Using \"copy.deepcopy\" to make another copy of \"names1\" copies each of the variables in the list and sub-lists\n",
      "   to the new list and sub-lists so neither list contains any of the same variables\n",
      "7 There is also a list.copy feature that appears to work just like copy.copy; for this set names5 = names1.copy()\n"
     ]
    }
   ],
   "source": [
    "#lists\n",
    "import copy\n",
    "names1 = [\"sara\",\"david\",\"Warner\",\"sandy\"]\n",
    "print(\"1 names1:\", names1)\n",
    "names2 = names1\n",
    "names2[1]=\"jack\"\n",
    "names1[2]=\"jill\"\n",
    "names2.append(\"jackie\")\n",
    "print(\"2 names1:\", names1, \"\\n   Using an \\\"=\\\" to assign the names2 list to names1, assigns the whole list variable, not its contents. \\n   So changing or adding a variable in either names1 or names2 changes it in the other list\\n  names2:\", names2, \"\\n   This is an example of a shallow copy, which is more like a shortcut.\")\n",
    "names1.append([38])\n",
    "names3 = copy.copy(names1)\n",
    "names1[0]='august'\n",
    "names3[3]='jermy'\n",
    "names3[5][0]=48\n",
    "print(\"3 names1:\", names1)\n",
    "print(\"4 names3:\", names3, \"\\n   Using \\\"copy.copy\\\" to make a list: \\\"names3\\\" that is a deep copy of list: \\\"names1,\\\" assigns each of the list\\n   variables to the new list, however this is only a shallow copy of those individual variables so sub-lists are\\n   referencing the same information as one another\")\n",
    "names4=copy.deepcopy(names1)\n",
    "names1[5][0]=12\n",
    "print(\"5 names1:\", names1)\n",
    "print(\"6 names4:\", names4, \"\\n   Using \\\"copy.deepcopy\\\" to make another copy of \\\"names1\\\" copies each of the variables in the list and sub-lists\\n   to the new list and sub-lists so neither list contains any of the same variables\")\n",
    "print(\"7 There is also a list.copy feature that appears to work just like copy.copy; for this, set names5 = names1.copy()\")"
   ]
  },
  {
   "cell_type": "code",
   "execution_count": 25,
   "id": "05a076c2",
   "metadata": {},
   "outputs": [
    {
     "name": "stdout",
     "output_type": "stream",
     "text": [
      "1: fruits1: ('apple', 'strawberry', ['banana', 'watermelon', 'blueberry']) \n",
      "   fruits2: ('apple', 'strawberry', ['banana', 'watermelon', 'blueberry']) \n",
      "    Setting one Tuple equal to another has the same result as setting lists\n",
      "    equal to one another, they just reference one another.\n",
      "2: fruits1: ('apple', 'strawberry', ['banana', 'watermelon', 'cantelope', 'pumpkin']) \n",
      "   fruits3: ('apple', 'strawberry', ['banana', 'watermelon', 'cantelope', 'pumpkin']) \n",
      "    Copy.copy creates a deep copy of the tuple, however\n",
      "    none of those values can be changed. Just like with\n",
      "    the list it doesn't create a deep copy of any sub lists\n",
      "    so those reference the same information and so this\n",
      "   function acts the same as setting one list to another.\n",
      "3: fruits1: ('apple', 'strawberry', ['banana', 'watermelon', 'cantelope', 'pumpkin', 'cumquaat']) \n",
      "   fruits4: ('apple', 'strawberry', ['banana', 'watermelon', 'cantelope', 'pumpkin', 'orange']) \n",
      "    Copy.deepcopy duplicates each variable from the tuple and\n",
      "    sublists individually so when you edit one of the tuples'\n",
      "    lists, it doesn't edit the other.\n"
     ]
    }
   ],
   "source": [
    "#Tuples\n",
    "fruits1 = (\"apple\", \"strawberry\", [\"banana\", \"cherry\", \"blueberry\"])\n",
    "fruits2=fruits1\n",
    "fruits2[2][1]=\"watermelon\"\n",
    "print(\"1: fruits1:\", fruits1, \"\\n   fruits2:\", fruits2, \"\\n    Setting one Tuple equal to another has the same result as setting lists\\n    equal to one another, they just reference one another.\")\n",
    "import copy\n",
    "fruits3=copy.copy(fruits1)\n",
    "fruits3[2].append(\"pumpkin\")\n",
    "fruits1[2][2]=\"cantelope\"\n",
    "print('2: fruits1:', fruits1, '\\n   fruits3:', fruits3,'\\n    Copy.copy creates a deep copy of the tuple, however\\n    none of those values can be changed. Just like with\\n    the list it doesn\\'t create a deep copy of any sub lists\\n    so those reference the same information and so this\\n   function acts the same as setting one list to another.')\n",
    "fruits4=copy.deepcopy(fruits1)\n",
    "fruits4[2].append(\"orange\")\n",
    "fruits1[2].append(\"cumquaat\")\n",
    "print('3: fruits1:', fruits1, '\\n   fruits4:', fruits4,'\\n    Copy.deepcopy duplicates each variable from the tuple and\\n    sublists individually so when you edit one of the tuples\\'\\n    lists, it doesn\\'t edit the other.')\n"
   ]
  },
  {
   "cell_type": "code",
   "execution_count": 25,
   "id": "f9b2bf92",
   "metadata": {},
   "outputs": [],
   "source": [
    "#Dictionaries\n",
    "#dictionary=dictionary to make a shallow copy.\n",
    "#copy.copy makes a deep copy of any first level information but not sub-lists or dictionaries.\n",
    "#copy.deepcopy makes a whole new independent dictionary."
   ]
  },
  {
   "cell_type": "code",
   "execution_count": 26,
   "id": "f244f679",
   "metadata": {},
   "outputs": [],
   "source": [
    "#Sets\n",
    "#set=set to make a shallow copy\n",
    "#copy.copy makes a deepcopy of the first level and can't contain any modifiable sub-lists so this is the same as copy.deepcopy.\n",
    "#copy.deepcopy isn't different from copy.copy."
   ]
  }
 ],
 "metadata": {
  "kernelspec": {
   "display_name": "Python 3 (ipykernel)",
   "language": "python",
   "name": "python3"
  },
  "language_info": {
   "codemirror_mode": {
    "name": "ipython",
    "version": 3
   },
   "file_extension": ".py",
   "mimetype": "text/x-python",
   "name": "python",
   "nbconvert_exporter": "python",
   "pygments_lexer": "ipython3",
   "version": "3.10.9"
  }
 },
 "nbformat": 4,
 "nbformat_minor": 5
}
