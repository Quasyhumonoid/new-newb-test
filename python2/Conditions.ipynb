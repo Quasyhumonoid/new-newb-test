{
 "cells": [
  {
   "cell_type": "code",
   "execution_count": 16,
   "id": "b33969ba",
   "metadata": {},
   "outputs": [
    {
     "name": "stdout",
     "output_type": "stream",
     "text": [
      "1: True\n",
      "2: True\n",
      "3: True\n",
      "4: False\n",
      "5: False\n"
     ]
    }
   ],
   "source": [
    "print(\"1:\", 10 == 10)\n",
    "x=10\n",
    "print(\"2:\", x == 10)\n",
    "y=\"Dad\"\n",
    "x=\"dad\"\n",
    "print(\"3:\", x == \"dad\")\n",
    "print(\"4:\", y == x)\n",
    "print(\"5:\", 10==10==True)"
   ]
  },
  {
   "cell_type": "code",
   "execution_count": 9,
   "id": "3e26f432",
   "metadata": {
    "scrolled": true
   },
   "outputs": [
    {
     "name": "stdout",
     "output_type": "stream",
     "text": [
      "1: False\n",
      "2: False\n",
      "3: False\n",
      "4: True\n"
     ]
    }
   ],
   "source": [
    "print(\"1:\", 10 != 10)\n",
    "x=10\n",
    "print(\"2:\", x != 10)\n",
    "y=\"Dad\"\n",
    "x=\"dad\"\n",
    "print(\"3:\", x != \"dad\")\n",
    "print(\"4:\", y != x)"
   ]
  },
  {
   "cell_type": "code",
   "execution_count": 17,
   "id": "bc66a031",
   "metadata": {},
   "outputs": [
    {
     "name": "stdout",
     "output_type": "stream",
     "text": [
      "1: False\n",
      "2: False\n",
      "3: True\n",
      "4: True\n",
      "5: False\n"
     ]
    }
   ],
   "source": [
    "print(\"1:\", 10 < 10)\n",
    "x=10\n",
    "print(\"2:\", x < 10)\n",
    "y=\"dad\"\n",
    "x=\"Dad\"\n",
    "print(\"3:\", x < \"dad\")\n",
    "print(\"4:\", y > x)\n",
    "#Python uses PEMDAS\n",
    "print(\"5:\", 7+8<6)"
   ]
  },
  {
   "cell_type": "code",
   "execution_count": 18,
   "id": "7043e61c",
   "metadata": {},
   "outputs": [
    {
     "name": "stdout",
     "output_type": "stream",
     "text": [
      "1: True\n",
      "2: False\n",
      "2: True\n"
     ]
    }
   ],
   "source": [
    "#and/or seperates expressions like parentheses \n",
    "print(\"1:\", 5<6 and 6<7)\n",
    "print(\"2:\", 5<6 and 7<7)\n",
    "print(\"2:\", 5<6 or 7<7)\n",
    "print(\"2:\", not 5<6 or 7<7)\n",
    "print(\"2:\", not 5<6 and 7<7)"
   ]
  },
  {
   "cell_type": "code",
   "execution_count": 63,
   "id": "810f66b7",
   "metadata": {},
   "outputs": [
    {
     "name": "stdout",
     "output_type": "stream",
     "text": [
      "10 is less than 15.\n",
      "string contains python\n",
      "['focus', 'fiesta']\n"
     ]
    }
   ],
   "source": [
    "if 10<15:\n",
    "    print(\"10 is less than 15.\")\n",
    "if 10>15:\n",
    "    print(\"10 is less than 15.\")\n",
    "mystring=\"Python is fun to program\"\n",
    "if \"python\" in mystring.lower():\n",
    "    print(\"string contains python\")\n",
    "cars = {'nissan':['sentra', 'optima'],'volkswagen':['jetta', 'beetle', 'golf'], 'ford':['focus', 'fiesta'], 'hyundai':['elantra', 'sonata'], 'toyota':['prius', 'corolla'], 'mini':['cooper', 'clubman'], 'honda':['civic', 'accord']}\n",
    "if 'ford' in cars:\n",
    "    print(cars['ford'])"
   ]
  },
  {
   "cell_type": "code",
   "execution_count": 64,
   "id": "eb30820f",
   "metadata": {},
   "outputs": [
    {
     "name": "stdout",
     "output_type": "stream",
     "text": [
      "False\n",
      "True\n",
      "False\n",
      "True\n",
      "False\n",
      "True\n",
      "False\n",
      "False\n",
      "True\n"
     ]
    }
   ],
   "source": [
    "print(\"D\" > \"d\")\n",
    "print(\"d\">\"D\")\n",
    "print(\"a\">\"b\")\n",
    "print(\"b\">\"a\")\n",
    "print(\"B\">\"a\")\n",
    "print(\"B\">\"A\")\n",
    "print(\"500\">\"B\")\n",
    "print(\"%\">\"50\")\n",
    "print(\"^\">\"%\")\n",
    "#I deduce: \"greater\" characters are towards the beginning and are ordered lower a-z, upper A-Z, numbers, characters"
   ]
  },
  {
   "cell_type": "code",
   "execution_count": 69,
   "id": "f2b5ba0f",
   "metadata": {},
   "outputs": [
    {
     "name": "stdout",
     "output_type": "stream",
     "text": [
      "['civic', 'accord', 'fit']\n",
      "['prius', 'corolla', 'yaris']\n",
      "None\n",
      "there are no compact nissan cars available\n"
     ]
    }
   ],
   "source": [
    "if not 'fit' in cars['honda']:\n",
    "    cars['honda'].append('fit')\n",
    "else:\n",
    "    print(cars['honda'])\n",
    "if not 'yaris' in cars['toyota']:\n",
    "    cars['toyota'].append('yaris')\n",
    "else:\n",
    "    print(cars['toyota'])\n",
    "\n",
    "cars['chevy']=['malibu', 'impala', 'sonic'] if not 'chevy' in cars.keys() else print(cars['chevy'])\n",
    "\n",
    "if \"leaf\" in cars[\"nissan\"]:\n",
    "    print(\"there is such a car available\")\n",
    "elif \"versa\" in cars[\"nissan\"]:\n",
    "    print(\"there is such a car available\")\n",
    "else:\n",
    "    print(\"there are no compact nissan cars available\")"
   ]
  },
  {
   "cell_type": "code",
   "execution_count": null,
   "id": "6bef18d5",
   "metadata": {},
   "outputs": [],
   "source": []
  }
 ],
 "metadata": {
  "kernelspec": {
   "display_name": "Python 3 (ipykernel)",
   "language": "python",
   "name": "python3"
  },
  "language_info": {
   "codemirror_mode": {
    "name": "ipython",
    "version": 3
   },
   "file_extension": ".py",
   "mimetype": "text/x-python",
   "name": "python",
   "nbconvert_exporter": "python",
   "pygments_lexer": "ipython3",
   "version": "3.10.9"
  }
 },
 "nbformat": 4,
 "nbformat_minor": 5
}
